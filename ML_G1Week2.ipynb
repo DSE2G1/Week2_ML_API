{
  "nbformat": 4,
  "nbformat_minor": 0,
  "metadata": {
    "colab": {
      "name": "ML_G1Week2.ipynb",
      "provenance": [],
      "collapsed_sections": [
        "hT5YPw6qg2_F",
        "EvTRwlpAz6Em",
        "zfhbPa_p8MKC",
        "9wg_Oke_89En",
        "pRWcXUziVvAD",
        "Tm2U3IitRXhC"
      ],
      "toc_visible": true,
      "include_colab_link": true
    },
    "kernelspec": {
      "name": "python3",
      "display_name": "Python 3"
    },
    "accelerator": "GPU"
  },
  "cells": [
    {
      "cell_type": "markdown",
      "metadata": {
        "id": "view-in-github",
        "colab_type": "text"
      },
      "source": [
        "<a href=\"https://colab.research.google.com/github/DSE2G1/Week2_ML_API/blob/master/ML_G1Week2.ipynb\" target=\"_parent\"><img src=\"https://colab.research.google.com/assets/colab-badge.svg\" alt=\"Open In Colab\"/></a>"
      ]
    },
    {
      "cell_type": "markdown",
      "metadata": {
        "id": "R3AHubqf7dte"
      },
      "source": [
        "# 1 Download and clean dataset\n",
        "from: https://www.kaggle.com/anmolkumar/health-insurance-cross-sell-prediction"
      ]
    },
    {
      "cell_type": "code",
      "metadata": {
        "colab": {
          "base_uri": "https://localhost:8080/"
        },
        "id": "pSyOVmmsSy4R",
        "outputId": "fe535d3c-3b75-48ce-f9d9-0b265c918961"
      },
      "source": [
        "import pandas as pd\n",
        "import numpy as np\n",
        "from time import time\n",
        "from sklearn.preprocessing import MinMaxScaler\n",
        "from sklearn.utils import shuffle\n",
        "from sklearn.model_selection import train_test_split\n",
        "from lightgbm import LGBMClassifier\n",
        "import joblib\n",
        "from imblearn.over_sampling import SMOTE\n",
        "import seaborn as sns\n",
        "import matplotlib.pyplot as plt\n",
        "from sklearn import metrics\n",
        "\n",
        "plt.style.use('fivethirtyeight')\n",
        "import warnings\n",
        "warnings.filterwarnings('ignore')"
      ],
      "execution_count": 1,
      "outputs": [
        {
          "output_type": "stream",
          "text": [
            "/usr/local/lib/python3.6/dist-packages/sklearn/externals/six.py:31: FutureWarning: The module is deprecated in version 0.21 and will be removed in version 0.23 since we've dropped support for Python 2.7. Please rely on the official version of six (https://pypi.org/project/six/).\n",
            "  \"(https://pypi.org/project/six/).\", FutureWarning)\n",
            "/usr/local/lib/python3.6/dist-packages/sklearn/utils/deprecation.py:144: FutureWarning: The sklearn.neighbors.base module is  deprecated in version 0.22 and will be removed in version 0.24. The corresponding classes / functions should instead be imported from sklearn.neighbors. Anything that cannot be imported from sklearn.neighbors is now part of the private API.\n",
            "  warnings.warn(message, FutureWarning)\n"
          ],
          "name": "stderr"
        }
      ]
    },
    {
      "cell_type": "code",
      "metadata": {
        "colab": {
          "base_uri": "https://localhost:8080/"
        },
        "id": "AUXOSAgSS_mW",
        "outputId": "9b1623ae-12be-4c7c-f9a9-0b38dcbf812f"
      },
      "source": [
        "!gdown --id -q 1E0eztrotQ9CPH5glLgONIwxV-M4WqXJ_\n",
        "!unzip -q insurance_cross_sell.zip"
      ],
      "execution_count": 2,
      "outputs": [
        {
          "output_type": "stream",
          "text": [
            "replace sample_submission.csv? [y]es, [n]o, [A]ll, [N]one, [r]ename: y\n",
            "replace test.csv? [y]es, [n]o, [A]ll, [N]one, [r]ename: y\n",
            "replace train.csv? [y]es, [n]o, [A]ll, [N]one, [r]ename: y\n"
          ],
          "name": "stdout"
        }
      ]
    },
    {
      "cell_type": "code",
      "metadata": {
        "colab": {
          "base_uri": "https://localhost:8080/",
          "height": 224
        },
        "id": "5aejaVBpT-9_",
        "outputId": "4c4f91ea-46ac-49b2-d9b8-803923767cc9"
      },
      "source": [
        "df = pd.read_csv('train.csv')\n",
        "df.head()"
      ],
      "execution_count": 3,
      "outputs": [
        {
          "output_type": "execute_result",
          "data": {
            "text/html": [
              "<div>\n",
              "<style scoped>\n",
              "    .dataframe tbody tr th:only-of-type {\n",
              "        vertical-align: middle;\n",
              "    }\n",
              "\n",
              "    .dataframe tbody tr th {\n",
              "        vertical-align: top;\n",
              "    }\n",
              "\n",
              "    .dataframe thead th {\n",
              "        text-align: right;\n",
              "    }\n",
              "</style>\n",
              "<table border=\"1\" class=\"dataframe\">\n",
              "  <thead>\n",
              "    <tr style=\"text-align: right;\">\n",
              "      <th></th>\n",
              "      <th>id</th>\n",
              "      <th>Gender</th>\n",
              "      <th>Age</th>\n",
              "      <th>Driving_License</th>\n",
              "      <th>Region_Code</th>\n",
              "      <th>Previously_Insured</th>\n",
              "      <th>Vehicle_Age</th>\n",
              "      <th>Vehicle_Damage</th>\n",
              "      <th>Annual_Premium</th>\n",
              "      <th>Policy_Sales_Channel</th>\n",
              "      <th>Vintage</th>\n",
              "      <th>Response</th>\n",
              "    </tr>\n",
              "  </thead>\n",
              "  <tbody>\n",
              "    <tr>\n",
              "      <th>0</th>\n",
              "      <td>1</td>\n",
              "      <td>Male</td>\n",
              "      <td>44</td>\n",
              "      <td>1</td>\n",
              "      <td>28.0</td>\n",
              "      <td>0</td>\n",
              "      <td>&gt; 2 Years</td>\n",
              "      <td>Yes</td>\n",
              "      <td>40454.0</td>\n",
              "      <td>26.0</td>\n",
              "      <td>217</td>\n",
              "      <td>1</td>\n",
              "    </tr>\n",
              "    <tr>\n",
              "      <th>1</th>\n",
              "      <td>2</td>\n",
              "      <td>Male</td>\n",
              "      <td>76</td>\n",
              "      <td>1</td>\n",
              "      <td>3.0</td>\n",
              "      <td>0</td>\n",
              "      <td>1-2 Year</td>\n",
              "      <td>No</td>\n",
              "      <td>33536.0</td>\n",
              "      <td>26.0</td>\n",
              "      <td>183</td>\n",
              "      <td>0</td>\n",
              "    </tr>\n",
              "    <tr>\n",
              "      <th>2</th>\n",
              "      <td>3</td>\n",
              "      <td>Male</td>\n",
              "      <td>47</td>\n",
              "      <td>1</td>\n",
              "      <td>28.0</td>\n",
              "      <td>0</td>\n",
              "      <td>&gt; 2 Years</td>\n",
              "      <td>Yes</td>\n",
              "      <td>38294.0</td>\n",
              "      <td>26.0</td>\n",
              "      <td>27</td>\n",
              "      <td>1</td>\n",
              "    </tr>\n",
              "    <tr>\n",
              "      <th>3</th>\n",
              "      <td>4</td>\n",
              "      <td>Male</td>\n",
              "      <td>21</td>\n",
              "      <td>1</td>\n",
              "      <td>11.0</td>\n",
              "      <td>1</td>\n",
              "      <td>&lt; 1 Year</td>\n",
              "      <td>No</td>\n",
              "      <td>28619.0</td>\n",
              "      <td>152.0</td>\n",
              "      <td>203</td>\n",
              "      <td>0</td>\n",
              "    </tr>\n",
              "    <tr>\n",
              "      <th>4</th>\n",
              "      <td>5</td>\n",
              "      <td>Female</td>\n",
              "      <td>29</td>\n",
              "      <td>1</td>\n",
              "      <td>41.0</td>\n",
              "      <td>1</td>\n",
              "      <td>&lt; 1 Year</td>\n",
              "      <td>No</td>\n",
              "      <td>27496.0</td>\n",
              "      <td>152.0</td>\n",
              "      <td>39</td>\n",
              "      <td>0</td>\n",
              "    </tr>\n",
              "  </tbody>\n",
              "</table>\n",
              "</div>"
            ],
            "text/plain": [
              "   id  Gender  Age  ...  Policy_Sales_Channel  Vintage  Response\n",
              "0   1    Male   44  ...                  26.0      217         1\n",
              "1   2    Male   76  ...                  26.0      183         0\n",
              "2   3    Male   47  ...                  26.0       27         1\n",
              "3   4    Male   21  ...                 152.0      203         0\n",
              "4   5  Female   29  ...                 152.0       39         0\n",
              "\n",
              "[5 rows x 12 columns]"
            ]
          },
          "metadata": {
            "tags": []
          },
          "execution_count": 3
        }
      ]
    },
    {
      "cell_type": "code",
      "metadata": {
        "colab": {
          "base_uri": "https://localhost:8080/"
        },
        "id": "Q3HkObSnUeZh",
        "outputId": "c55714b5-8ed3-43a8-bc01-39d0a35cdaa3"
      },
      "source": [
        "df.info()"
      ],
      "execution_count": 4,
      "outputs": [
        {
          "output_type": "stream",
          "text": [
            "<class 'pandas.core.frame.DataFrame'>\n",
            "RangeIndex: 381109 entries, 0 to 381108\n",
            "Data columns (total 12 columns):\n",
            " #   Column                Non-Null Count   Dtype  \n",
            "---  ------                --------------   -----  \n",
            " 0   id                    381109 non-null  int64  \n",
            " 1   Gender                381109 non-null  object \n",
            " 2   Age                   381109 non-null  int64  \n",
            " 3   Driving_License       381109 non-null  int64  \n",
            " 4   Region_Code           381109 non-null  float64\n",
            " 5   Previously_Insured    381109 non-null  int64  \n",
            " 6   Vehicle_Age           381109 non-null  object \n",
            " 7   Vehicle_Damage        381109 non-null  object \n",
            " 8   Annual_Premium        381109 non-null  float64\n",
            " 9   Policy_Sales_Channel  381109 non-null  float64\n",
            " 10  Vintage               381109 non-null  int64  \n",
            " 11  Response              381109 non-null  int64  \n",
            "dtypes: float64(3), int64(6), object(3)\n",
            "memory usage: 34.9+ MB\n"
          ],
          "name": "stdout"
        }
      ]
    },
    {
      "cell_type": "markdown",
      "metadata": {
        "id": "AaZ2x_FwXrW1"
      },
      "source": [
        "# 2. Preprocessing data"
      ]
    },
    {
      "cell_type": "markdown",
      "metadata": {
        "id": "M0Mq9dXfX37k"
      },
      "source": [
        "## 2.1 Our original data is imbalanced data"
      ]
    },
    {
      "cell_type": "code",
      "metadata": {
        "colab": {
          "base_uri": "https://localhost:8080/"
        },
        "id": "oMWg_Jq7Yi8x",
        "outputId": "723e4e2f-bd4c-4aeb-a90b-3cc0acdabc4e"
      },
      "source": [
        "df.Response.value_counts()"
      ],
      "execution_count": 5,
      "outputs": [
        {
          "output_type": "execute_result",
          "data": {
            "text/plain": [
              "0    334399\n",
              "1     46710\n",
              "Name: Response, dtype: int64"
            ]
          },
          "metadata": {
            "tags": []
          },
          "execution_count": 5
        }
      ]
    },
    {
      "cell_type": "code",
      "metadata": {
        "colab": {
          "base_uri": "https://localhost:8080/",
          "height": 525
        },
        "id": "6mVoRPW7Yk7R",
        "outputId": "639c34d0-f7ee-48bb-8220-d0cbd82c118f"
      },
      "source": [
        "f,ax=plt.subplots(1,2,figsize=(18,8))\n",
        "df['Response'].value_counts().plot.pie(ax=ax[0],explode=[0,0.1],shadow=True,autopct='%1.1f%%')\n",
        "ax[0].set_title('Response',fontsize=30)\n",
        "ax[0].set_ylabel('Count')\n",
        "sns.set(font=\"Verdana\")\n",
        "sns.set_style(\"ticks\")\n",
        "sns.countplot('Response',linewidth=2.5,edgecolor=\".2\",data=df,ax=ax[1])\n",
        "plt.ioff() # This removes the matplotlib notifications"
      ],
      "execution_count": 6,
      "outputs": [
        {
          "output_type": "display_data",
          "data": {
            "image/png": "[encoded data removed]",
            "text/plain": [
              "<Figure size 1296x576 with 2 Axes>"
            ]
          },
          "metadata": {
            "tags": [],
            "needs_background": "light"
          }
        }
      ]
    },
    {
      "cell_type": "markdown",
      "metadata": {
        "id": "FPjsWhccpgcF"
      },
      "source": [
        "## 2.2 Feature extraction"
      ]
    },
    {
      "cell_type": "code",
      "metadata": {
        "colab": {
          "base_uri": "https://localhost:8080/",
          "height": 241
        },
        "id": "3FpQG10FpzcJ",
        "outputId": "4c24e80e-382e-4e6b-a4ae-e82e338f6bbd"
      },
      "source": [
        "# feature extraction and save as process df\n",
        "process_df = df.copy()\n",
        "target = df.Response\n",
        "process_df['Driving_License'] = process_df.Driving_License.astype(str)\n",
        "process_df['Previously_Insured'] = process_df.Previously_Insured.astype(str)\n",
        "# one hot coding\n",
        "dummies = pd.get_dummies(process_df[['Gender', 'Driving_License', 'Previously_Insured', 'Vehicle_Age','Vehicle_Damage']])\n",
        "process_df = pd.concat([process_df, dummies], axis=1)\n",
        "process_df.drop(columns=['Gender','Region_Code', 'Driving_License', 'Previously_Insured', 'Vehicle_Age', 'Vehicle_Damage', 'Response'], inplace=True)\n",
        "process_df['target'] = target\n",
        "\n",
        "\n",
        "process_df.head()"
      ],
      "execution_count": 7,
      "outputs": [
        {
          "output_type": "execute_result",
          "data": {
            "text/html": [
              "<div>\n",
              "<style scoped>\n",
              "    .dataframe tbody tr th:only-of-type {\n",
              "        vertical-align: middle;\n",
              "    }\n",
              "\n",
              "    .dataframe tbody tr th {\n",
              "        vertical-align: top;\n",
              "    }\n",
              "\n",
              "    .dataframe thead th {\n",
              "        text-align: right;\n",
              "    }\n",
              "</style>\n",
              "<table border=\"1\" class=\"dataframe\">\n",
              "  <thead>\n",
              "    <tr style=\"text-align: right;\">\n",
              "      <th></th>\n",
              "      <th>id</th>\n",
              "      <th>Age</th>\n",
              "      <th>Annual_Premium</th>\n",
              "      <th>Policy_Sales_Channel</th>\n",
              "      <th>Vintage</th>\n",
              "      <th>Gender_Female</th>\n",
              "      <th>Gender_Male</th>\n",
              "      <th>Driving_License_0</th>\n",
              "      <th>Driving_License_1</th>\n",
              "      <th>Previously_Insured_0</th>\n",
              "      <th>Previously_Insured_1</th>\n",
              "      <th>Vehicle_Age_1-2 Year</th>\n",
              "      <th>Vehicle_Age_&lt; 1 Year</th>\n",
              "      <th>Vehicle_Age_&gt; 2 Years</th>\n",
              "      <th>Vehicle_Damage_No</th>\n",
              "      <th>Vehicle_Damage_Yes</th>\n",
              "      <th>target</th>\n",
              "    </tr>\n",
              "  </thead>\n",
              "  <tbody>\n",
              "    <tr>\n",
              "      <th>0</th>\n",
              "      <td>1</td>\n",
              "      <td>44</td>\n",
              "      <td>40454.0</td>\n",
              "      <td>26.0</td>\n",
              "      <td>217</td>\n",
              "      <td>0</td>\n",
              "      <td>1</td>\n",
              "      <td>0</td>\n",
              "      <td>1</td>\n",
              "      <td>1</td>\n",
              "      <td>0</td>\n",
              "      <td>0</td>\n",
              "      <td>0</td>\n",
              "      <td>1</td>\n",
              "      <td>0</td>\n",
              "      <td>1</td>\n",
              "      <td>1</td>\n",
              "    </tr>\n",
              "    <tr>\n",
              "      <th>1</th>\n",
              "      <td>2</td>\n",
              "      <td>76</td>\n",
              "      <td>33536.0</td>\n",
              "      <td>26.0</td>\n",
              "      <td>183</td>\n",
              "      <td>0</td>\n",
              "      <td>1</td>\n",
              "      <td>0</td>\n",
              "      <td>1</td>\n",
              "      <td>1</td>\n",
              "      <td>0</td>\n",
              "      <td>1</td>\n",
              "      <td>0</td>\n",
              "      <td>0</td>\n",
              "      <td>1</td>\n",
              "      <td>0</td>\n",
              "      <td>0</td>\n",
              "    </tr>\n",
              "    <tr>\n",
              "      <th>2</th>\n",
              "      <td>3</td>\n",
              "      <td>47</td>\n",
              "      <td>38294.0</td>\n",
              "      <td>26.0</td>\n",
              "      <td>27</td>\n",
              "      <td>0</td>\n",
              "      <td>1</td>\n",
              "      <td>0</td>\n",
              "      <td>1</td>\n",
              "      <td>1</td>\n",
              "      <td>0</td>\n",
              "      <td>0</td>\n",
              "      <td>0</td>\n",
              "      <td>1</td>\n",
              "      <td>0</td>\n",
              "      <td>1</td>\n",
              "      <td>1</td>\n",
              "    </tr>\n",
              "    <tr>\n",
              "      <th>3</th>\n",
              "      <td>4</td>\n",
              "      <td>21</td>\n",
              "      <td>28619.0</td>\n",
              "      <td>152.0</td>\n",
              "      <td>203</td>\n",
              "      <td>0</td>\n",
              "      <td>1</td>\n",
              "      <td>0</td>\n",
              "      <td>1</td>\n",
              "      <td>0</td>\n",
              "      <td>1</td>\n",
              "      <td>0</td>\n",
              "      <td>1</td>\n",
              "      <td>0</td>\n",
              "      <td>1</td>\n",
              "      <td>0</td>\n",
              "      <td>0</td>\n",
              "    </tr>\n",
              "    <tr>\n",
              "      <th>4</th>\n",
              "      <td>5</td>\n",
              "      <td>29</td>\n",
              "      <td>27496.0</td>\n",
              "      <td>152.0</td>\n",
              "      <td>39</td>\n",
              "      <td>1</td>\n",
              "      <td>0</td>\n",
              "      <td>0</td>\n",
              "      <td>1</td>\n",
              "      <td>0</td>\n",
              "      <td>1</td>\n",
              "      <td>0</td>\n",
              "      <td>1</td>\n",
              "      <td>0</td>\n",
              "      <td>1</td>\n",
              "      <td>0</td>\n",
              "      <td>0</td>\n",
              "    </tr>\n",
              "  </tbody>\n",
              "</table>\n",
              "</div>"
            ],
            "text/plain": [
              "   id  Age  Annual_Premium  ...  Vehicle_Damage_No  Vehicle_Damage_Yes  target\n",
              "0   1   44         40454.0  ...                  0                   1       1\n",
              "1   2   76         33536.0  ...                  1                   0       0\n",
              "2   3   47         38294.0  ...                  0                   1       1\n",
              "3   4   21         28619.0  ...                  1                   0       0\n",
              "4   5   29         27496.0  ...                  1                   0       0\n",
              "\n",
              "[5 rows x 17 columns]"
            ]
          },
          "metadata": {
            "tags": []
          },
          "execution_count": 7
        }
      ]
    },
    {
      "cell_type": "markdown",
      "metadata": {
        "id": "7n7J-RNZT8ao"
      },
      "source": [
        "#2.2 Traning Original Dataset\n",
        "This section is to check the accuracy of our model if we use orginal dataset for training"
      ]
    },
    {
      "cell_type": "code",
      "metadata": {
        "colab": {
          "base_uri": "https://localhost:8080/"
        },
        "id": "KnYXzHkxUMD3",
        "outputId": "0abbbc93-58d4-4835-f604-fbdb0f78b783"
      },
      "source": [
        "# splitting train and test dataset\n",
        "new_df = shuffle(process_df)\n",
        "new_df.drop(columns=['id'], inplace= True)\n",
        "X = np.array(new_df)[:,:-1]\n",
        "Y = np.array(new_df)[:,-1]\n",
        "\n",
        "X_train, X_test, Y_train, Y_test = train_test_split(X, Y, test_size=0.2)\n",
        "X_train.shape, Y_train.shape, X_test.shape, Y_test.shape"
      ],
      "execution_count": 8,
      "outputs": [
        {
          "output_type": "execute_result",
          "data": {
            "text/plain": [
              "((304887, 15), (304887,), (76222, 15), (76222,))"
            ]
          },
          "metadata": {
            "tags": []
          },
          "execution_count": 8
        }
      ]
    },
    {
      "cell_type": "code",
      "metadata": {
        "colab": {
          "base_uri": "https://localhost:8080/"
        },
        "id": "U_maFmDXUCao",
        "outputId": "82824c04-4049-4980-f421-a67a0e97b2ff"
      },
      "source": [
        "# training model\n",
        "model = LGBMClassifier()\n",
        "model.fit(X_train, Y_train)\n",
        "\n",
        "\n",
        "Y_predict = model.predict(X_test)\n",
        "print(f'precision : {metrics.precision_score(Y_test, Y_predict)}')\n",
        "\n",
        "fpr, tpr, thresholds = metrics.roc_curve(Y_test, Y_predict)\n",
        "(metrics.auc(fpr, tpr))\n",
        "print(f'AUC : {metrics.auc(fpr, tpr)}')"
      ],
      "execution_count": 9,
      "outputs": [
        {
          "output_type": "stream",
          "text": [
            "precision : 0.34375\n",
            "AUC : 0.5008587936638764\n"
          ],
          "name": "stdout"
        }
      ]
    },
    {
      "cell_type": "code",
      "metadata": {
        "colab": {
          "base_uri": "https://localhost:8080/",
          "height": 301
        },
        "id": "goeEsUNEUFBv",
        "outputId": "1dc2403e-edc5-443a-b59b-6db1c9f3688c"
      },
      "source": [
        "data = pd.DataFrame({'test': Y_test,'pred': Y_predict})\n",
        "confusion_matrix = pd.crosstab(data.test, data.pred, rownames=['Actual'], colnames=['Predicted'])\n",
        "sns.heatmap(confusion_matrix, annot=True, fmt='g')\n",
        "plt.title(f'Original Dataset')\n",
        "plt.show()"
      ],
      "execution_count": 10,
      "outputs": [
        {
          "output_type": "display_data",
          "data": {
            "image/png": "[encoded data removed]",
            "text/plain": [
              "<Figure size 432x288 with 2 Axes>"
            ]
          },
          "metadata": {
            "tags": []
          }
        }
      ]
    },
    {
      "cell_type": "code",
      "metadata": {
        "colab": {
          "base_uri": "https://localhost:8080/"
        },
        "id": "lH4M05mMREG8",
        "outputId": "45efa21d-4b4f-4df6-b70f-9c07bcb33d5a"
      },
      "source": [
        "print(metrics.classification_report(Y_test, Y_predict))"
      ],
      "execution_count": 11,
      "outputs": [
        {
          "output_type": "stream",
          "text": [
            "              precision    recall  f1-score   support\n",
            "\n",
            "         0.0       0.88      1.00      0.93     66844\n",
            "         1.0       0.34      0.00      0.00      9378\n",
            "\n",
            "    accuracy                           0.88     76222\n",
            "   macro avg       0.61      0.50      0.47     76222\n",
            "weighted avg       0.81      0.88      0.82     76222\n",
            "\n"
          ],
          "name": "stdout"
        }
      ]
    },
    {
      "cell_type": "markdown",
      "metadata": {
        "id": "QV3Dek54UxIH"
      },
      "source": [
        "# 2.3 Training Undersampling Dataset\n",
        "This section, we use undersampling method to make a new dataset for solving imbalanced data and train our model with undersampling dataset"
      ]
    },
    {
      "cell_type": "code",
      "metadata": {
        "id": "z6qzq3aQ3RkX"
      },
      "source": [
        "from imblearn.under_sampling import RandomUnderSampler\n",
        "\n",
        "new_df = shuffle(process_df)\n",
        "new_df.drop(columns=['id'], inplace= True)\n",
        "X = np.array(new_df)[:,:-1]\n",
        "y = np.array(new_df)[:,-1]\n",
        "\n",
        "rus = RandomUnderSampler(random_state=0)\n",
        "X_resampled, y_resampled = rus.fit_resample(X, y)"
      ],
      "execution_count": 12,
      "outputs": []
    },
    {
      "cell_type": "code",
      "metadata": {
        "colab": {
          "base_uri": "https://localhost:8080/"
        },
        "id": "n_QKAaRN3gnS",
        "outputId": "617c1fe5-3f44-4416-bcd5-ac640f74a480"
      },
      "source": [
        "X_resampled.shape, y_resampled.shape"
      ],
      "execution_count": 13,
      "outputs": [
        {
          "output_type": "execute_result",
          "data": {
            "text/plain": [
              "((93420, 15), (93420,))"
            ]
          },
          "metadata": {
            "tags": []
          },
          "execution_count": 13
        }
      ]
    },
    {
      "cell_type": "code",
      "metadata": {
        "colab": {
          "base_uri": "https://localhost:8080/"
        },
        "id": "I6Vbgvxf3mt-",
        "outputId": "6494c36a-ad04-45c8-f072-779c002a3506"
      },
      "source": [
        "X_train, X_test, Y_train, Y_test = train_test_split(X_resampled, y_resampled, test_size=0.2)\n",
        "\n",
        "model = LGBMClassifier()\n",
        "model.fit(X_train, Y_train)\n",
        "\n",
        "\n",
        "Y_predict = model.predict(X_test)\n",
        "print(f'precision : {metrics.precision_score(Y_test, Y_predict)}')\n",
        "\n",
        "fpr, tpr, thresholds = metrics.roc_curve(Y_test, Y_predict)\n",
        "(metrics.auc(fpr, tpr))\n",
        "print(f'AUC : {metrics.auc(fpr, tpr)}')"
      ],
      "execution_count": 14,
      "outputs": [
        {
          "output_type": "stream",
          "text": [
            "precision : 0.7304614336795505\n",
            "AUC : 0.7949683692129565\n"
          ],
          "name": "stdout"
        }
      ]
    },
    {
      "cell_type": "code",
      "metadata": {
        "colab": {
          "base_uri": "https://localhost:8080/",
          "height": 301
        },
        "id": "fdAkTKXMVcCg",
        "outputId": "bd896e58-86d3-4693-b079-6f5e9abfe6f2"
      },
      "source": [
        "data = pd.DataFrame({'test': Y_test,'pred': Y_predict})\n",
        "confusion_matrix = pd.crosstab(data.test, data.pred, rownames=['Actual'], colnames=['Predicted'])\n",
        "sns.heatmap(confusion_matrix, annot=True, fmt='g')\n",
        "plt.title(f'Undersampling Dataset')\n",
        "plt.show()"
      ],
      "execution_count": 15,
      "outputs": [
        {
          "output_type": "display_data",
          "data": {
            "image/png": "[encoded data removed]",
            "text/plain": [
              "<Figure size 432x288 with 2 Axes>"
            ]
          },
          "metadata": {
            "tags": []
          }
        }
      ]
    },
    {
      "cell_type": "code",
      "metadata": {
        "colab": {
          "base_uri": "https://localhost:8080/"
        },
        "id": "r0UTXFznRg2b",
        "outputId": "7a4c2676-7662-4fa9-c423-cce56017cc05"
      },
      "source": [
        "print(metrics.classification_report(Y_test, Y_predict))"
      ],
      "execution_count": 16,
      "outputs": [
        {
          "output_type": "stream",
          "text": [
            "              precision    recall  f1-score   support\n",
            "\n",
            "         0.0       0.90      0.66      0.76      9419\n",
            "         1.0       0.73      0.93      0.82      9265\n",
            "\n",
            "    accuracy                           0.79     18684\n",
            "   macro avg       0.82      0.79      0.79     18684\n",
            "weighted avg       0.82      0.79      0.79     18684\n",
            "\n"
          ],
          "name": "stdout"
        }
      ]
    },
    {
      "cell_type": "markdown",
      "metadata": {
        "id": "Dpvq0J2SVnzY"
      },
      "source": [
        "## 2.4 Oversampling Dataset using SMOTE\n",
        "In this section, we split dataset into train and test set before oversampling. Then, we do oversampling only train set."
      ]
    },
    {
      "cell_type": "code",
      "metadata": {
        "colab": {
          "base_uri": "https://localhost:8080/"
        },
        "id": "0kMUNInQv2V8",
        "outputId": "0666a03e-6a95-408d-8513-b343e5367582"
      },
      "source": [
        "# split data into train & test set\n",
        "new_df = process_df.drop(columns=['id'])\n",
        "X = np.array(new_df)[:,:-1]\n",
        "Y = np.array(new_df)[:,-1]\n",
        "X_train, X_test, Y_train, Y_test = train_test_split(X, Y, test_size=0.2)\n",
        "X_train.shape, Y_train.shape, X_test.shape, Y_test.shape"
      ],
      "execution_count": 17,
      "outputs": [
        {
          "output_type": "execute_result",
          "data": {
            "text/plain": [
              "((304887, 15), (304887,), (76222, 15), (76222,))"
            ]
          },
          "metadata": {
            "tags": []
          },
          "execution_count": 17
        }
      ]
    },
    {
      "cell_type": "code",
      "metadata": {
        "colab": {
          "base_uri": "https://localhost:8080/"
        },
        "id": "Pw6iQbCiv2jo",
        "outputId": "14271087-f3b8-43ee-e4c7-b87cc150d1b2"
      },
      "source": [
        "# oversampling only train set\n",
        "from imblearn.over_sampling import SMOTE\n",
        "oversample = SMOTE()\n",
        "\n",
        "X_train, Y_train = oversample.fit_resample(X_train, Y_train)\n",
        "\n",
        "X_train.shape, Y_train.shape, X_test.shape, Y_test.shape"
      ],
      "execution_count": 18,
      "outputs": [
        {
          "output_type": "execute_result",
          "data": {
            "text/plain": [
              "((534950, 15), (534950,), (76222, 15), (76222,))"
            ]
          },
          "metadata": {
            "tags": []
          },
          "execution_count": 18
        }
      ]
    },
    {
      "cell_type": "code",
      "metadata": {
        "colab": {
          "base_uri": "https://localhost:8080/"
        },
        "id": "0hXmPgWEy178",
        "outputId": "8dc0b6eb-d03e-4a06-cab4-e7514790cb93"
      },
      "source": [
        "pd.DataFrame(Y_train).value_counts()"
      ],
      "execution_count": 19,
      "outputs": [
        {
          "output_type": "execute_result",
          "data": {
            "text/plain": [
              "1.0    267475\n",
              "0.0    267475\n",
              "dtype: int64"
            ]
          },
          "metadata": {
            "tags": []
          },
          "execution_count": 19
        }
      ]
    },
    {
      "cell_type": "code",
      "metadata": {
        "colab": {
          "base_uri": "https://localhost:8080/"
        },
        "id": "8wC-q6DczuMZ",
        "outputId": "ae0e9cd5-2f5c-4a26-f30f-ff054e52f461"
      },
      "source": [
        "pd.DataFrame(Y_test).value_counts()"
      ],
      "execution_count": 20,
      "outputs": [
        {
          "output_type": "execute_result",
          "data": {
            "text/plain": [
              "0.0    66924\n",
              "1.0     9298\n",
              "dtype: int64"
            ]
          },
          "metadata": {
            "tags": []
          },
          "execution_count": 20
        }
      ]
    },
    {
      "cell_type": "code",
      "metadata": {
        "colab": {
          "base_uri": "https://localhost:8080/"
        },
        "id": "Sppu8v-MVcJw",
        "outputId": "800b4619-d203-4bd3-c382-b4b6d22f0570"
      },
      "source": [
        "model = LGBMClassifier()\n",
        "model.fit(X_train, Y_train)\n",
        "\n",
        "Y_predict = model.predict(X_test)\n",
        "print(f'precision : {metrics.precision_score(Y_test, Y_predict)}')\n",
        "\n",
        "fpr, tpr, thresholds = metrics.roc_curve(Y_test, Y_predict)\n",
        "(metrics.auc(fpr, tpr))\n",
        "print(f'AUC : {metrics.auc(fpr, tpr)}')"
      ],
      "execution_count": 21,
      "outputs": [
        {
          "output_type": "stream",
          "text": [
            "precision : 0.37985242220083415\n",
            "AUC : 0.5492278515405904\n"
          ],
          "name": "stdout"
        }
      ]
    },
    {
      "cell_type": "code",
      "metadata": {
        "colab": {
          "base_uri": "https://localhost:8080/",
          "height": 301
        },
        "id": "uFIvF_iKVcMT",
        "outputId": "740a8eb7-c7a8-42b3-8711-537bd04b8f4d"
      },
      "source": [
        "data = pd.DataFrame({'test': Y_test,'pred': Y_predict})\n",
        "confusion_matrix = pd.crosstab(data.test, data.pred, rownames=['Actual'], colnames=['Predicted'])\n",
        "sns.heatmap(confusion_matrix, annot=True, fmt='g')\n",
        "plt.title(f'Oversampling Dataset')\n",
        "plt.show()"
      ],
      "execution_count": 22,
      "outputs": [
        {
          "output_type": "display_data",
          "data": {
            "image/png": "[encoded data removed]",
            "text/plain": [
              "<Figure size 432x288 with 2 Axes>"
            ]
          },
          "metadata": {
            "tags": []
          }
        }
      ]
    },
    {
      "cell_type": "code",
      "metadata": {
        "colab": {
          "base_uri": "https://localhost:8080/"
        },
        "id": "77m47dc3dyeK",
        "outputId": "7680e45e-9497-4769-8a81-276b7fc7b1b5"
      },
      "source": [
        "print(metrics.classification_report(Y_test, Y_predict))"
      ],
      "execution_count": 23,
      "outputs": [
        {
          "output_type": "stream",
          "text": [
            "              precision    recall  f1-score   support\n",
            "\n",
            "         0.0       0.89      0.97      0.93     66924\n",
            "         1.0       0.38      0.13      0.19      9298\n",
            "\n",
            "    accuracy                           0.87     76222\n",
            "   macro avg       0.63      0.55      0.56     76222\n",
            "weighted avg       0.83      0.87      0.84     76222\n",
            "\n"
          ],
          "name": "stdout"
        }
      ]
    },
    {
      "cell_type": "markdown",
      "metadata": {
        "id": "YMvUdEhH6Ojk"
      },
      "source": [
        "# 3. Cross validation and Comparison of Different Models"
      ]
    },
    {
      "cell_type": "code",
      "metadata": {
        "colab": {
          "base_uri": "https://localhost:8080/"
        },
        "id": "X1ErfZZJ_ygI",
        "outputId": "bbb4aec9-6b80-47d9-84e4-98fe548a8c78"
      },
      "source": [
        "from imblearn.under_sampling import RandomUnderSampler\n",
        "\n",
        "new_df = shuffle(process_df)\n",
        "new_df.drop(columns=['id'], inplace= True)\n",
        "X = np.array(new_df)[:,:-1]\n",
        "y = np.array(new_df)[:,-1]\n",
        "\n",
        "rus = RandomUnderSampler(random_state=0)\n",
        "X_resampled, y_resampled = rus.fit_resample(X, y)\n",
        "\n",
        "\n",
        "# split train & test set\n",
        "X_train, X_test, Y_train, Y_test = train_test_split(X_resampled, y_resampled, test_size=0.2)\n",
        "X_train.shape, Y_train.shape, X_test.shape, Y_test.shape\n"
      ],
      "execution_count": 24,
      "outputs": [
        {
          "output_type": "execute_result",
          "data": {
            "text/plain": [
              "((74736, 15), (74736,), (18684, 15), (18684,))"
            ]
          },
          "metadata": {
            "tags": []
          },
          "execution_count": 24
        }
      ]
    },
    {
      "cell_type": "code",
      "metadata": {
        "colab": {
          "base_uri": "https://localhost:8080/",
          "height": 204
        },
        "id": "udzdRItq88A0",
        "outputId": "c40c2a11-b33b-4607-ecb2-e7ff66114d99"
      },
      "source": [
        "from sklearn.ensemble import GradientBoostingClassifier\n",
        "from lightgbm import LGBMClassifier\n",
        "from xgboost import XGBClassifier\n",
        "from sklearn.ensemble import AdaBoostClassifier\n",
        "from sklearn.linear_model import RidgeClassifier\n",
        "from sklearn.model_selection import cross_validate\n",
        "from sklearn.model_selection import KFold\n",
        "from sklearn.model_selection import cross_val_score\n",
        "\n",
        "acc = []\n",
        "precision = []\n",
        "recall = []\n",
        "f1 = []\n",
        "AUC = []\n",
        "totalTime = []\n",
        "model_name = ['GradientBoostingClassifier', 'LGBMClassifier', 'XGBClassifier', 'AdaBoostClassifier', 'RidgeClassifier']\n",
        "\n",
        "for model in model_name:\n",
        "\n",
        "\n",
        "\n",
        "    start = time()\n",
        "    # train model\n",
        "    model = eval(model)()\n",
        "    model.fit(X_train, Y_train)\n",
        "    end = time()\n",
        "    # Evaluation \n",
        "    Y_predict = model.predict(X_test)\n",
        "\n",
        "    # Evaluate a score by  k-fold cross-validation\n",
        "\n",
        "\n",
        "    score_set = {'acc': 'accuracy',\n",
        "           'precision': 'precision',\n",
        "           'recall': 'recall',\n",
        "           'f1': 'f1',\n",
        "           'roc auc':'roc_auc'\n",
        "           }\n",
        "    kfold = KFold(n_splits=5, random_state=1)\n",
        "    scores_acc = cross_val_score(model, X_train, Y_train, cv=kfold, scoring='accuracy')\n",
        "    scores_pre = cross_val_score(model, X_train, Y_train, cv=kfold, scoring='precision')\n",
        "    scores_recall = cross_val_score(model, X_train, Y_train, cv=kfold, scoring='recall')\n",
        "    scores_f1 = cross_val_score(model, X_train, Y_train, cv=kfold, scoring='f1')\n",
        "    scores_roc_auc = cross_val_score(model, X_train, Y_train, cv=kfold, scoring='roc_auc')\n",
        "\n",
        "\n",
        "    acc.append(np.mean(scores_acc))\n",
        "    precision.append(np.mean(scores_pre))\n",
        "    recall.append(np.mean(scores_recall))\n",
        "    f1.append(np.mean(scores_f1))\n",
        "    AUC.append(np.mean(scores_roc_auc))\n",
        "\n",
        "\n",
        "    #fpr, tpr, thresholds = metrics.roc_curve(Y_test, Y_predict)\n",
        "    #AUC.append(metrics.auc(fpr, tpr))\n",
        "    \n",
        "    totalTime.append(end-start)\n",
        "\n",
        "model_df = pd.DataFrame({'model' : model_name, 'Accuracy' : acc, 'Precision': precision, 'Recall': recall, 'f1_score': f1, 'ROC_AUC':AUC,'run_time(sec)' : totalTime})\n",
        "model_df.sort_values(by=['ROC_AUC'], inplace=True, ascending=False)\n",
        "model_df"
      ],
      "execution_count": 26,
      "outputs": [
        {
          "output_type": "execute_result",
          "data": {
            "text/html": [
              "<div>\n",
              "<style scoped>\n",
              "    .dataframe tbody tr th:only-of-type {\n",
              "        vertical-align: middle;\n",
              "    }\n",
              "\n",
              "    .dataframe tbody tr th {\n",
              "        vertical-align: top;\n",
              "    }\n",
              "\n",
              "    .dataframe thead th {\n",
              "        text-align: right;\n",
              "    }\n",
              "</style>\n",
              "<table border=\"1\" class=\"dataframe\">\n",
              "  <thead>\n",
              "    <tr style=\"text-align: right;\">\n",
              "      <th></th>\n",
              "      <th>model</th>\n",
              "      <th>Accuracy</th>\n",
              "      <th>Precision</th>\n",
              "      <th>Recall</th>\n",
              "      <th>f1_score</th>\n",
              "      <th>ROC_AUC</th>\n",
              "      <th>run_time(sec)</th>\n",
              "    </tr>\n",
              "  </thead>\n",
              "  <tbody>\n",
              "    <tr>\n",
              "      <th>0</th>\n",
              "      <td>GradientBoostingClassifier</td>\n",
              "      <td>0.796082</td>\n",
              "      <td>0.735716</td>\n",
              "      <td>0.925460</td>\n",
              "      <td>0.819747</td>\n",
              "      <td>0.853488</td>\n",
              "      <td>8.254940</td>\n",
              "    </tr>\n",
              "    <tr>\n",
              "      <th>2</th>\n",
              "      <td>XGBClassifier</td>\n",
              "      <td>0.795828</td>\n",
              "      <td>0.734012</td>\n",
              "      <td>0.929254</td>\n",
              "      <td>0.820171</td>\n",
              "      <td>0.853082</td>\n",
              "      <td>3.331393</td>\n",
              "    </tr>\n",
              "    <tr>\n",
              "      <th>1</th>\n",
              "      <td>LGBMClassifier</td>\n",
              "      <td>0.796832</td>\n",
              "      <td>0.735973</td>\n",
              "      <td>0.927137</td>\n",
              "      <td>0.820559</td>\n",
              "      <td>0.852644</td>\n",
              "      <td>0.567467</td>\n",
              "    </tr>\n",
              "    <tr>\n",
              "      <th>3</th>\n",
              "      <td>AdaBoostClassifier</td>\n",
              "      <td>0.795320</td>\n",
              "      <td>0.730117</td>\n",
              "      <td>0.938395</td>\n",
              "      <td>0.821242</td>\n",
              "      <td>0.848935</td>\n",
              "      <td>2.367439</td>\n",
              "    </tr>\n",
              "    <tr>\n",
              "      <th>4</th>\n",
              "      <td>RidgeClassifier</td>\n",
              "      <td>0.783491</td>\n",
              "      <td>0.705142</td>\n",
              "      <td>0.976057</td>\n",
              "      <td>0.818764</td>\n",
              "      <td>0.834736</td>\n",
              "      <td>0.034683</td>\n",
              "    </tr>\n",
              "  </tbody>\n",
              "</table>\n",
              "</div>"
            ],
            "text/plain": [
              "                        model  Accuracy  ...   ROC_AUC  run_time(sec)\n",
              "0  GradientBoostingClassifier  0.796082  ...  0.853488       8.254940\n",
              "2               XGBClassifier  0.795828  ...  0.853082       3.331393\n",
              "1              LGBMClassifier  0.796832  ...  0.852644       0.567467\n",
              "3          AdaBoostClassifier  0.795320  ...  0.848935       2.367439\n",
              "4             RidgeClassifier  0.783491  ...  0.834736       0.034683\n",
              "\n",
              "[5 rows x 7 columns]"
            ]
          },
          "metadata": {
            "tags": []
          },
          "execution_count": 26
        }
      ]
    },
    {
      "cell_type": "markdown",
      "metadata": {
        "id": "Tho2nl2t4adw"
      },
      "source": [
        "# 4. Cost-sensitive learning \n",
        "Repeat stratified k-fold techniques can then be used in conjunction with cross_val_score to predict and evaluate each fold."
      ]
    },
    {
      "cell_type": "code",
      "metadata": {
        "colab": {
          "base_uri": "https://localhost:8080/"
        },
        "id": "1EVOyMtYCXBI",
        "outputId": "61dbfb17-d18d-4884-e568-083db29d6189"
      },
      "source": [
        "#modified code from here https://towardsdatascience.com/how-to-effectively-predict-imbalanced-classes-in-python-e8cd3b5720c4\n",
        "\n",
        "from sklearn.model_selection import cross_val_score\n",
        "from sklearn.model_selection import cross_validate\n",
        "from sklearn.model_selection import RepeatedStratifiedKFold\n",
        "#from sklearn.tree import XGBClassifier\n",
        "from xgboost import XGBClassifier\n",
        "from collections import Counter\n",
        "\n",
        "# load data\n",
        "new_df = shuffle(process_df)\n",
        "new_df.drop(columns=['id'], inplace= True)\n",
        "X = np.array(new_df)[:,:-1]\n",
        "y = np.array(new_df)[:,-1]\n",
        "\n",
        "# count samples in minor & major class\n",
        "counter = Counter(y)\n",
        "\n",
        "print(counter)\n",
        "\n",
        "# estimate scale_pos_weight value\n",
        "weight = counter[0] / counter[1]\n",
        "\n",
        "#define model\n",
        "model = XGBClassifier(scale_pos_weight=weight)\n",
        "\n",
        "# Evaluate a score by  Stratified k-fold cross-validation\n",
        "\n",
        "\n",
        "score_set = {'acc': 'accuracy',\n",
        "           'precision': 'precision',\n",
        "           'recall': 'recall',\n",
        "           'f1': 'f1',\n",
        "           'roc_auc':'roc_auc'\n",
        "           }\n",
        "\n",
        "\n",
        "cv = RepeatedStratifiedKFold(n_splits=10,n_repeats=3, random_state=1)\n",
        "scores = cross_validate(model, X,y, scoring=score_set, cv=cv, n_jobs=1)\n"
      ],
      "execution_count": 27,
      "outputs": [
        {
          "output_type": "stream",
          "text": [
            "Counter({0.0: 334399, 1.0: 46710})\n"
          ],
          "name": "stdout"
        }
      ]
    },
    {
      "cell_type": "code",
      "metadata": {
        "colab": {
          "base_uri": "https://localhost:8080/"
        },
        "id": "OD9BPnAIgqoq",
        "outputId": "54f48c5a-a452-42bb-ee47-25f43c88c2e7"
      },
      "source": [
        "print(scores.keys())"
      ],
      "execution_count": 28,
      "outputs": [
        {
          "output_type": "stream",
          "text": [
            "dict_keys(['fit_time', 'score_time', 'test_acc', 'test_precision', 'test_recall', 'test_f1', 'test_roc_auc'])\n"
          ],
          "name": "stdout"
        }
      ]
    },
    {
      "cell_type": "code",
      "metadata": {
        "colab": {
          "base_uri": "https://localhost:8080/"
        },
        "id": "J66DoxRyoMe5",
        "outputId": "a7647b48-8b16-414c-9555-f7dda2da92c6"
      },
      "source": [
        "print('Fit time: ',np.mean(scores['fit_time']))\n",
        "print('Accuracy : ',np.mean(scores['test_acc']))\n",
        "print('Precision : ',np.mean(scores['test_precision']))\n",
        "print('Recall : ',np.mean(scores['test_recall']))\n",
        "print('F1 : ',np.mean(scores['test_f1']))\n",
        "print('Mean AUROC : ',np.mean(scores['test_roc_auc']))"
      ],
      "execution_count": 29,
      "outputs": [
        {
          "output_type": "stream",
          "text": [
            "Fit time:  15.962208120028178\n",
            "Accuracy :  0.6968312685573864\n",
            "Precision :  0.27879873141911565\n",
            "Recall :  0.928473560265468\n",
            "F1 :  0.4288206158049212\n",
            "Mean AUROC :  0.8546376259154311\n"
          ],
          "name": "stdout"
        }
      ]
    },
    {
      "cell_type": "markdown",
      "metadata": {
        "id": "EvTRwlpAz6Em"
      },
      "source": [
        "# 5. Save Model\n",
        "Finally, we use Undersampling data for training model "
      ]
    },
    {
      "cell_type": "code",
      "metadata": {
        "id": "MTBOIPqG4c6n"
      },
      "source": [
        "from imblearn.under_sampling import RandomUnderSampler\n",
        "\n",
        "new_df = shuffle(process_df)\n",
        "new_df.drop(columns=['id'], inplace= True)\n",
        "X = np.array(new_df)[:,:-1]\n",
        "y = np.array(new_df)[:,-1]\n",
        "\n",
        "rus = RandomUnderSampler(random_state=0)\n",
        "X_resampled, y_resampled = rus.fit_resample(X, y)\n",
        "\n",
        "X_train, X_test, Y_train, Y_test = train_test_split(X_resampled, y_resampled, test_size=0.2)"
      ],
      "execution_count": 31,
      "outputs": []
    },
    {
      "cell_type": "code",
      "metadata": {
        "id": "T39k9ZuoxwwT"
      },
      "source": [
        "model = LGBMClassifier()\n",
        "model.fit(X_train, Y_train)\n",
        "\n",
        "pred = model.predict(X_test)"
      ],
      "execution_count": 32,
      "outputs": []
    },
    {
      "cell_type": "code",
      "metadata": {
        "colab": {
          "base_uri": "https://localhost:8080/",
          "height": 301
        },
        "id": "cjgnbmvs7JMB",
        "outputId": "69d37c8a-7d62-4870-dcdc-c8cb96867b22"
      },
      "source": [
        "data = pd.DataFrame({'test': Y_test,'pred': pred})\n",
        "confusion_matrix = pd.crosstab(data.test, data.pred, rownames=['Actual'], colnames=['Predicted'])\n",
        "sns.heatmap(confusion_matrix, annot=True, fmt='g')\n",
        "plt.title(f'Undersampling Dataset')\n",
        "plt.show()"
      ],
      "execution_count": 34,
      "outputs": [
        {
          "output_type": "display_data",
          "data": {
            "image/png": "[encoded data removed]",
            "text/plain": [
              "<Figure size 432x288 with 2 Axes>"
            ]
          },
          "metadata": {
            "tags": []
          }
        }
      ]
    },
    {
      "cell_type": "code",
      "metadata": {
        "colab": {
          "base_uri": "https://localhost:8080/"
        },
        "id": "IajZszzb95AM",
        "outputId": "3bcc83e5-c8ac-4535-8605-3f9dce88d641"
      },
      "source": [
        "print(metrics.classification_report(Y_test, Y_predict))"
      ],
      "execution_count": 35,
      "outputs": [
        {
          "output_type": "stream",
          "text": [
            "              precision    recall  f1-score   support\n",
            "\n",
            "         0.0       0.51      0.32      0.39      9269\n",
            "         1.0       0.51      0.70      0.59      9415\n",
            "\n",
            "    accuracy                           0.51     18684\n",
            "   macro avg       0.51      0.51      0.49     18684\n",
            "weighted avg       0.51      0.51      0.49     18684\n",
            "\n"
          ],
          "name": "stdout"
        }
      ]
    },
    {
      "cell_type": "code",
      "metadata": {
        "colab": {
          "base_uri": "https://localhost:8080/"
        },
        "id": "GEFbveWqz_T1",
        "outputId": "6ee619e8-edb8-4e8a-c27a-6fa00808451a"
      },
      "source": [
        "joblib.dump(model, 'model_LGBMClassifier_9193.pkl')"
      ],
      "execution_count": 36,
      "outputs": [
        {
          "output_type": "execute_result",
          "data": {
            "text/plain": [
              "['model_LGBMClassifier_9193.pkl']"
            ]
          },
          "metadata": {
            "tags": []
          },
          "execution_count": 36
        }
      ]
    },
    {
      "cell_type": "markdown",
      "metadata": {
        "id": "CSp2e1xD0St3"
      },
      "source": [
        "#Test Model"
      ]
    },
    {
      "cell_type": "code",
      "metadata": {
        "id": "nCWMG61G5I6U"
      },
      "source": [
        "#download model\n",
        "!gdown --id -q 1Zb26X3gQXc-kbC2-t8RMrRRZx2pvLcoh"
      ],
      "execution_count": 37,
      "outputs": []
    },
    {
      "cell_type": "code",
      "metadata": {
        "colab": {
          "base_uri": "https://localhost:8080/"
        },
        "id": "-yqiqh7A0q0D",
        "cellView": "form",
        "outputId": "6434a254-0ecc-4809-bef0-dd767d9558cf"
      },
      "source": [
        "#@title\n",
        "\n",
        "model = joblib.load('/content/model_LGBMClassifier_9193.pkl')\n",
        "\n",
        "answer_list = []\n",
        "Age = 20 #@param {type:\"number\"}\n",
        "Driving_License = True #@param {type:\"boolean\"}\n",
        "Region_Code = 0 #@param {type:\"number\"}\n",
        "Previously_Insured = True #@param {type:\"boolean\"}\n",
        "Annual_Premium = 10000 #@param {type:\"number\"}\n",
        "Policy_Sales_Channel = 20 #@param {type:\"number\"}\n",
        "Vintage = 88 #@param {type:\"number\"}\n",
        "Gender = 'Female' #@param ['Male', 'Female'] {type:\"string\"}\n",
        "Vehicle_Age = \"\\u003C 1 Year\" #@param ['< 1 Year', '1-2 Year', '> 2 Years'] {type:\"string\"}\n",
        "Vehicle_Damage_Yes = False #@param {type:\"boolean\"}\n",
        "\n",
        "Driving_License_0,Driving_License_1 = 0, 0\n",
        "Driving_License_1=1 if Driving_License == True else 0\n",
        "Driving_License_0=1 if Driving_License == False else 0\n",
        "\n",
        "Previously_Insured_0, Previously_Insured_1 = 0, 0\n",
        "Previously_Insured_1=1 if Previously_Insured == True else 0\n",
        "Previously_Insured_0=1 if Previously_Insured == False else 0\n",
        "\n",
        "Gender_Female, Gender_Male = 0, 0\n",
        "Gender_Female=1 if Gender == 'Female' else 0\n",
        "Gender_Male=1 if Gender == 'Male' else 0\n",
        "\n",
        "Vehicle_Age_1_Year, Vehicle_Age_1_2_Year, Vehicle_Age_2_Years = 0, 0, 0\n",
        "Vehicle_Age_1_Year=1 if Vehicle_Age == '< 1 Year' else 0\n",
        "Vehicle_Age_1_2_Year=1 if Vehicle_Age == '1-2 Year' else 0\n",
        "Vehicle_Age_2_Years=1 if Vehicle_Age == '> 2 Years' else 0\n",
        "\n",
        "\n",
        "Vehicle_Damage_Yes, Vehicle_Damage_No = 0, 0\n",
        "Vehicle_Damage_Yes=1 if Vehicle_Age == True else 0\n",
        "Vehicle_Damage_No=1 if Vehicle_Age == False else 0\n",
        "\n",
        "feature = [Age, Region_Code, Annual_Premium, Policy_Sales_Channel, Vintage, Gender_Female, Gender_Male, Driving_License_0, Driving_License_1, Previously_Insured_0, Previously_Insured_1, Vehicle_Age_1_Year, Vehicle_Age_1_2_Year, Vehicle_Age_2_Years, Vehicle_Damage_No, Vehicle_Damage_Yes]\n",
        "feature = np.array(feature).reshape(1,-1)\n",
        "\n",
        "model.predict(feature)\n",
        "\n",
        "if model.predict(feature)[0] == 1:\n",
        "    print('Customer is interested')\n",
        "elif model.predict(feature)[0] == 0:\n",
        "    print('Customer is not interested')"
      ],
      "execution_count": 38,
      "outputs": [
        {
          "output_type": "stream",
          "text": [
            "Customer is not interested\n"
          ],
          "name": "stdout"
        }
      ]
    },
    {
      "cell_type": "code",
      "metadata": {
        "id": "ZK1Xv6pVcDg5"
      },
      "source": [
        ""
      ],
      "execution_count": null,
      "outputs": []
    }
  ]
}