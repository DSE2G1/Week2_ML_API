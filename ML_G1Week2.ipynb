{
  "nbformat": 4,
  "nbformat_minor": 0,
  "metadata": {
    "colab": {
      "name": "ML_G1Week2.ipynb",
      "provenance": [],
      "collapsed_sections": [
        "hT5YPw6qg2_F",
        "EvTRwlpAz6Em",
        "zfhbPa_p8MKC",
        "9wg_Oke_89En",
        "pRWcXUziVvAD",
        "Tm2U3IitRXhC"
      ],
      "include_colab_link": true
    },
    "kernelspec": {
      "name": "python3",
      "display_name": "Python 3"
    },
    "accelerator": "GPU"
  },
  "cells": [
    {
      "cell_type": "markdown",
      "metadata": {
        "id": "view-in-github",
        "colab_type": "text"
      },
      "source": [
        "<a href=\"https://colab.research.google.com/github/DSE2G1/Week2_ML_API/blob/master/ML_G1Week2.ipynb\" target=\"_parent\"><img src=\"https://colab.research.google.com/assets/colab-badge.svg\" alt=\"Open In Colab\"/></a>"
      ]
    },
    {
      "cell_type": "markdown",
      "metadata": {
        "id": "R3AHubqf7dte"
      },
      "source": [
        "# 1 Download and clean dataset\n",
        "from: https://www.kaggle.com/anmolkumar/health-insurance-cross-sell-prediction"
      ]
    },
    {
      "cell_type": "code",
      "metadata": {
        "id": "pSyOVmmsSy4R"
      },
      "source": [
        "import pandas as pd\n",
        "import numpy as np\n",
        "from time import time\n",
        "from sklearn.preprocessing import MinMaxScaler\n",
        "from sklearn.utils import shuffle\n",
        "from sklearn.model_selection import train_test_split\n",
        "from lightgbm import LGBMClassifier\n",
        "import joblib\n",
        "from imblearn.over_sampling import SMOTE\n",
        "import seaborn as sns\n",
        "import matplotlib.pyplot as plt\n",
        "from sklearn import metrics\n",
        "\n",
        "plt.style.use('fivethirtyeight')\n",
        "import warnings\n",
        "warnings.filterwarnings('ignore')"
      ],
      "execution_count": 40,
      "outputs": []
    },
    {
      "cell_type": "code",
      "metadata": {
        "id": "AUXOSAgSS_mW"
      },
      "source": [
        "!gdown --id -q 1E0eztrotQ9CPH5glLgONIwxV-M4WqXJ_\n",
        "!unzip -q insurance_cross_sell.zip"
      ],
      "execution_count": 2,
      "outputs": []
    },
    {
      "cell_type": "code",
      "metadata": {
        "colab": {
          "base_uri": "https://localhost:8080/",
          "height": 204
        },
        "id": "5aejaVBpT-9_",
        "outputId": "e49f0e5a-b12a-4c5e-c804-3888d848fd27"
      },
      "source": [
        "df = pd.read_csv('train.csv')\n",
        "df.head()"
      ],
      "execution_count": 81,
      "outputs": [
        {
          "output_type": "execute_result",
          "data": {
            "text/html": [
              "<div>\n",
              "<style scoped>\n",
              "    .dataframe tbody tr th:only-of-type {\n",
              "        vertical-align: middle;\n",
              "    }\n",
              "\n",
              "    .dataframe tbody tr th {\n",
              "        vertical-align: top;\n",
              "    }\n",
              "\n",
              "    .dataframe thead th {\n",
              "        text-align: right;\n",
              "    }\n",
              "</style>\n",
              "<table border=\"1\" class=\"dataframe\">\n",
              "  <thead>\n",
              "    <tr style=\"text-align: right;\">\n",
              "      <th></th>\n",
              "      <th>id</th>\n",
              "      <th>Gender</th>\n",
              "      <th>Age</th>\n",
              "      <th>Driving_License</th>\n",
              "      <th>Region_Code</th>\n",
              "      <th>Previously_Insured</th>\n",
              "      <th>Vehicle_Age</th>\n",
              "      <th>Vehicle_Damage</th>\n",
              "      <th>Annual_Premium</th>\n",
              "      <th>Policy_Sales_Channel</th>\n",
              "      <th>Vintage</th>\n",
              "      <th>Response</th>\n",
              "    </tr>\n",
              "  </thead>\n",
              "  <tbody>\n",
              "    <tr>\n",
              "      <th>0</th>\n",
              "      <td>1</td>\n",
              "      <td>Male</td>\n",
              "      <td>44</td>\n",
              "      <td>1</td>\n",
              "      <td>28.0</td>\n",
              "      <td>0</td>\n",
              "      <td>&gt; 2 Years</td>\n",
              "      <td>Yes</td>\n",
              "      <td>40454.0</td>\n",
              "      <td>26.0</td>\n",
              "      <td>217</td>\n",
              "      <td>1</td>\n",
              "    </tr>\n",
              "    <tr>\n",
              "      <th>1</th>\n",
              "      <td>2</td>\n",
              "      <td>Male</td>\n",
              "      <td>76</td>\n",
              "      <td>1</td>\n",
              "      <td>3.0</td>\n",
              "      <td>0</td>\n",
              "      <td>1-2 Year</td>\n",
              "      <td>No</td>\n",
              "      <td>33536.0</td>\n",
              "      <td>26.0</td>\n",
              "      <td>183</td>\n",
              "      <td>0</td>\n",
              "    </tr>\n",
              "    <tr>\n",
              "      <th>2</th>\n",
              "      <td>3</td>\n",
              "      <td>Male</td>\n",
              "      <td>47</td>\n",
              "      <td>1</td>\n",
              "      <td>28.0</td>\n",
              "      <td>0</td>\n",
              "      <td>&gt; 2 Years</td>\n",
              "      <td>Yes</td>\n",
              "      <td>38294.0</td>\n",
              "      <td>26.0</td>\n",
              "      <td>27</td>\n",
              "      <td>1</td>\n",
              "    </tr>\n",
              "    <tr>\n",
              "      <th>3</th>\n",
              "      <td>4</td>\n",
              "      <td>Male</td>\n",
              "      <td>21</td>\n",
              "      <td>1</td>\n",
              "      <td>11.0</td>\n",
              "      <td>1</td>\n",
              "      <td>&lt; 1 Year</td>\n",
              "      <td>No</td>\n",
              "      <td>28619.0</td>\n",
              "      <td>152.0</td>\n",
              "      <td>203</td>\n",
              "      <td>0</td>\n",
              "    </tr>\n",
              "    <tr>\n",
              "      <th>4</th>\n",
              "      <td>5</td>\n",
              "      <td>Female</td>\n",
              "      <td>29</td>\n",
              "      <td>1</td>\n",
              "      <td>41.0</td>\n",
              "      <td>1</td>\n",
              "      <td>&lt; 1 Year</td>\n",
              "      <td>No</td>\n",
              "      <td>27496.0</td>\n",
              "      <td>152.0</td>\n",
              "      <td>39</td>\n",
              "      <td>0</td>\n",
              "    </tr>\n",
              "  </tbody>\n",
              "</table>\n",
              "</div>"
            ],
            "text/plain": [
              "   id  Gender  Age  ...  Policy_Sales_Channel  Vintage  Response\n",
              "0   1    Male   44  ...                  26.0      217         1\n",
              "1   2    Male   76  ...                  26.0      183         0\n",
              "2   3    Male   47  ...                  26.0       27         1\n",
              "3   4    Male   21  ...                 152.0      203         0\n",
              "4   5  Female   29  ...                 152.0       39         0\n",
              "\n",
              "[5 rows x 12 columns]"
            ]
          },
          "metadata": {
            "tags": []
          },
          "execution_count": 81
        }
      ]
    },
    {
      "cell_type": "code",
      "metadata": {
        "colab": {
          "base_uri": "https://localhost:8080/"
        },
        "id": "Q3HkObSnUeZh",
        "outputId": "32d6dd67-ebfb-4c11-bea0-8da36d5555a8"
      },
      "source": [
        "df.info()"
      ],
      "execution_count": 42,
      "outputs": [
        {
          "output_type": "stream",
          "text": [
            "<class 'pandas.core.frame.DataFrame'>\n",
            "RangeIndex: 381109 entries, 0 to 381108\n",
            "Data columns (total 12 columns):\n",
            " #   Column                Non-Null Count   Dtype  \n",
            "---  ------                --------------   -----  \n",
            " 0   id                    381109 non-null  int64  \n",
            " 1   Gender                381109 non-null  object \n",
            " 2   Age                   381109 non-null  int64  \n",
            " 3   Driving_License       381109 non-null  int64  \n",
            " 4   Region_Code           381109 non-null  float64\n",
            " 5   Previously_Insured    381109 non-null  int64  \n",
            " 6   Vehicle_Age           381109 non-null  object \n",
            " 7   Vehicle_Damage        381109 non-null  object \n",
            " 8   Annual_Premium        381109 non-null  float64\n",
            " 9   Policy_Sales_Channel  381109 non-null  float64\n",
            " 10  Vintage               381109 non-null  int64  \n",
            " 11  Response              381109 non-null  int64  \n",
            "dtypes: float64(3), int64(6), object(3)\n",
            "memory usage: 34.9+ MB\n"
          ],
          "name": "stdout"
        }
      ]
    },
    {
      "cell_type": "markdown",
      "metadata": {
        "id": "AaZ2x_FwXrW1"
      },
      "source": [
        "# 2. Preprocessing data"
      ]
    },
    {
      "cell_type": "markdown",
      "metadata": {
        "id": "M0Mq9dXfX37k"
      },
      "source": [
        "## 2.1 Our original data is imbalanced data"
      ]
    },
    {
      "cell_type": "code",
      "metadata": {
        "colab": {
          "base_uri": "https://localhost:8080/"
        },
        "id": "oMWg_Jq7Yi8x",
        "outputId": "0726a0ff-7cf6-4d45-a05b-7ba9a58b0b94"
      },
      "source": [
        "df.Response.value_counts()"
      ],
      "execution_count": 82,
      "outputs": [
        {
          "output_type": "execute_result",
          "data": {
            "text/plain": [
              "0    334399\n",
              "1     46710\n",
              "Name: Response, dtype: int64"
            ]
          },
          "metadata": {
            "tags": []
          },
          "execution_count": 82
        }
      ]
    },
    {
      "cell_type": "code",
      "metadata": {
        "colab": {
          "base_uri": "https://localhost:8080/",
          "height": 563
        },
        "id": "6mVoRPW7Yk7R",
        "outputId": "4afc1528-3569-41a5-d7ed-1f73a84be574"
      },
      "source": [
        "f,ax=plt.subplots(1,2,figsize=(18,8))\n",
        "df['Response'].value_counts().plot.pie(ax=ax[0],explode=[0,0.1],shadow=True,autopct='%1.1f%%')\n",
        "ax[0].set_title('Response',fontsize=30)\n",
        "ax[0].set_ylabel('Count')\n",
        "sns.set(font=\"Verdana\")\n",
        "sns.set_style(\"ticks\")\n",
        "sns.countplot('Response',linewidth=2.5,edgecolor=\".2\",data=df,ax=ax[1])\n",
        "plt.ioff() # This removes the matplotlib notifications"
      ],
      "execution_count": 83,
      "outputs": [
        {
          "output_type": "display_data",
          "data": {
            "image/png": "[encoded data removed]",
            "text/plain": [
              "<Figure size 1296x576 with 2 Axes>"
            ]
          },
          "metadata": {
            "tags": []
          }
        }
      ]
    },
    {
      "cell_type": "markdown",
      "metadata": {
        "id": "FPjsWhccpgcF"
      },
      "source": [
        "## 2.2 Feature extraction"
      ]
    },
    {
      "cell_type": "code",
      "metadata": {
        "colab": {
          "base_uri": "https://localhost:8080/",
          "height": 241
        },
        "id": "3FpQG10FpzcJ",
        "outputId": "d877e2e7-ac75-436c-c468-96fa0bd58eed"
      },
      "source": [
        "# feature extraction and save as process df\n",
        "process_df = df.copy()\n",
        "target = df.Response\n",
        "process_df['Driving_License'] = process_df.Driving_License.astype(str)\n",
        "process_df['Previously_Insured'] = process_df.Previously_Insured.astype(str)\n",
        "# one hot coding\n",
        "dummies = pd.get_dummies(process_df[['Gender', 'Driving_License', 'Previously_Insured', 'Vehicle_Age','Vehicle_Damage']])\n",
        "process_df = pd.concat([process_df, dummies], axis=1)\n",
        "process_df.drop(columns=['Gender','Region_Code', 'Driving_License', 'Previously_Insured', 'Vehicle_Age', 'Vehicle_Damage', 'Response'], inplace=True)\n",
        "process_df['target'] = target\n",
        "\n",
        "\n",
        "process_df.head()"
      ],
      "execution_count": 92,
      "outputs": [
        {
          "output_type": "execute_result",
          "data": {
            "text/html": [
              "<div>\n",
              "<style scoped>\n",
              "    .dataframe tbody tr th:only-of-type {\n",
              "        vertical-align: middle;\n",
              "    }\n",
              "\n",
              "    .dataframe tbody tr th {\n",
              "        vertical-align: top;\n",
              "    }\n",
              "\n",
              "    .dataframe thead th {\n",
              "        text-align: right;\n",
              "    }\n",
              "</style>\n",
              "<table border=\"1\" class=\"dataframe\">\n",
              "  <thead>\n",
              "    <tr style=\"text-align: right;\">\n",
              "      <th></th>\n",
              "      <th>id</th>\n",
              "      <th>Age</th>\n",
              "      <th>Annual_Premium</th>\n",
              "      <th>Policy_Sales_Channel</th>\n",
              "      <th>Vintage</th>\n",
              "      <th>Gender_Female</th>\n",
              "      <th>Gender_Male</th>\n",
              "      <th>Driving_License_0</th>\n",
              "      <th>Driving_License_1</th>\n",
              "      <th>Previously_Insured_0</th>\n",
              "      <th>Previously_Insured_1</th>\n",
              "      <th>Vehicle_Age_1-2 Year</th>\n",
              "      <th>Vehicle_Age_&lt; 1 Year</th>\n",
              "      <th>Vehicle_Age_&gt; 2 Years</th>\n",
              "      <th>Vehicle_Damage_No</th>\n",
              "      <th>Vehicle_Damage_Yes</th>\n",
              "      <th>target</th>\n",
              "    </tr>\n",
              "  </thead>\n",
              "  <tbody>\n",
              "    <tr>\n",
              "      <th>0</th>\n",
              "      <td>1</td>\n",
              "      <td>44</td>\n",
              "      <td>40454.0</td>\n",
              "      <td>26.0</td>\n",
              "      <td>217</td>\n",
              "      <td>0</td>\n",
              "      <td>1</td>\n",
              "      <td>0</td>\n",
              "      <td>1</td>\n",
              "      <td>1</td>\n",
              "      <td>0</td>\n",
              "      <td>0</td>\n",
              "      <td>0</td>\n",
              "      <td>1</td>\n",
              "      <td>0</td>\n",
              "      <td>1</td>\n",
              "      <td>1</td>\n",
              "    </tr>\n",
              "    <tr>\n",
              "      <th>1</th>\n",
              "      <td>2</td>\n",
              "      <td>76</td>\n",
              "      <td>33536.0</td>\n",
              "      <td>26.0</td>\n",
              "      <td>183</td>\n",
              "      <td>0</td>\n",
              "      <td>1</td>\n",
              "      <td>0</td>\n",
              "      <td>1</td>\n",
              "      <td>1</td>\n",
              "      <td>0</td>\n",
              "      <td>1</td>\n",
              "      <td>0</td>\n",
              "      <td>0</td>\n",
              "      <td>1</td>\n",
              "      <td>0</td>\n",
              "      <td>0</td>\n",
              "    </tr>\n",
              "    <tr>\n",
              "      <th>2</th>\n",
              "      <td>3</td>\n",
              "      <td>47</td>\n",
              "      <td>38294.0</td>\n",
              "      <td>26.0</td>\n",
              "      <td>27</td>\n",
              "      <td>0</td>\n",
              "      <td>1</td>\n",
              "      <td>0</td>\n",
              "      <td>1</td>\n",
              "      <td>1</td>\n",
              "      <td>0</td>\n",
              "      <td>0</td>\n",
              "      <td>0</td>\n",
              "      <td>1</td>\n",
              "      <td>0</td>\n",
              "      <td>1</td>\n",
              "      <td>1</td>\n",
              "    </tr>\n",
              "    <tr>\n",
              "      <th>3</th>\n",
              "      <td>4</td>\n",
              "      <td>21</td>\n",
              "      <td>28619.0</td>\n",
              "      <td>152.0</td>\n",
              "      <td>203</td>\n",
              "      <td>0</td>\n",
              "      <td>1</td>\n",
              "      <td>0</td>\n",
              "      <td>1</td>\n",
              "      <td>0</td>\n",
              "      <td>1</td>\n",
              "      <td>0</td>\n",
              "      <td>1</td>\n",
              "      <td>0</td>\n",
              "      <td>1</td>\n",
              "      <td>0</td>\n",
              "      <td>0</td>\n",
              "    </tr>\n",
              "    <tr>\n",
              "      <th>4</th>\n",
              "      <td>5</td>\n",
              "      <td>29</td>\n",
              "      <td>27496.0</td>\n",
              "      <td>152.0</td>\n",
              "      <td>39</td>\n",
              "      <td>1</td>\n",
              "      <td>0</td>\n",
              "      <td>0</td>\n",
              "      <td>1</td>\n",
              "      <td>0</td>\n",
              "      <td>1</td>\n",
              "      <td>0</td>\n",
              "      <td>1</td>\n",
              "      <td>0</td>\n",
              "      <td>1</td>\n",
              "      <td>0</td>\n",
              "      <td>0</td>\n",
              "    </tr>\n",
              "  </tbody>\n",
              "</table>\n",
              "</div>"
            ],
            "text/plain": [
              "   id  Age  Annual_Premium  ...  Vehicle_Damage_No  Vehicle_Damage_Yes  target\n",
              "0   1   44         40454.0  ...                  0                   1       1\n",
              "1   2   76         33536.0  ...                  1                   0       0\n",
              "2   3   47         38294.0  ...                  0                   1       1\n",
              "3   4   21         28619.0  ...                  1                   0       0\n",
              "4   5   29         27496.0  ...                  1                   0       0\n",
              "\n",
              "[5 rows x 17 columns]"
            ]
          },
          "metadata": {
            "tags": []
          },
          "execution_count": 92
        }
      ]
    },
    {
      "cell_type": "markdown",
      "metadata": {
        "id": "7n7J-RNZT8ao"
      },
      "source": [
        "#2.2 Traning Original Dataset\n",
        "This section is to check the accuracy of our model if we use orginal dataset for training"
      ]
    },
    {
      "cell_type": "code",
      "metadata": {
        "colab": {
          "base_uri": "https://localhost:8080/"
        },
        "id": "KnYXzHkxUMD3",
        "outputId": "a08e5eca-2f7c-46df-f122-1c3415c5a7bc"
      },
      "source": [
        "# splitting train and test dataset\n",
        "new_df = shuffle(process_df)\n",
        "new_df.drop(columns=['id'], inplace= True)\n",
        "X = np.array(new_df)[:,:-1]\n",
        "Y = np.array(new_df)[:,-1]\n",
        "\n",
        "X_train, X_test, Y_train, Y_test = train_test_split(X, Y, test_size=0.2)\n",
        "X_train.shape, Y_train.shape, X_test.shape, Y_test.shape"
      ],
      "execution_count": 85,
      "outputs": [
        {
          "output_type": "execute_result",
          "data": {
            "text/plain": [
              "((304887, 15), (304887,), (76222, 15), (76222,))"
            ]
          },
          "metadata": {
            "tags": []
          },
          "execution_count": 85
        }
      ]
    },
    {
      "cell_type": "code",
      "metadata": {
        "colab": {
          "base_uri": "https://localhost:8080/"
        },
        "id": "U_maFmDXUCao",
        "outputId": "ad4eeb98-1782-4ef0-d4d2-3825c1927564"
      },
      "source": [
        "# training model\n",
        "model = LGBMClassifier()\n",
        "model.fit(X_train, Y_train)\n",
        "\n",
        "\n",
        "Y_predict = model.predict(X_test)\n",
        "print(f'precision : {metrics.precision_score(Y_test, Y_predict)}')\n",
        "\n",
        "fpr, tpr, thresholds = metrics.roc_curve(Y_test, Y_predict)\n",
        "(metrics.auc(fpr, tpr))\n",
        "print(f'AUC : {metrics.auc(fpr, tpr)}')"
      ],
      "execution_count": 47,
      "outputs": [
        {
          "output_type": "stream",
          "text": [
            "precision : 0.5660377358490566%\n"
          ],
          "name": "stdout"
        }
      ]
    },
    {
      "cell_type": "code",
      "metadata": {
        "colab": {
          "base_uri": "https://localhost:8080/",
          "height": 317
        },
        "id": "goeEsUNEUFBv",
        "outputId": "51b97719-698e-4ca2-e8cd-a34d7bda6207"
      },
      "source": [
        "data = pd.DataFrame({'test': Y_test,'pred': Y_predict})\n",
        "confusion_matrix = pd.crosstab(data.test, data.pred, rownames=['Actual'], colnames=['Predicted'])\n",
        "sns.heatmap(confusion_matrix, annot=True, fmt='g')\n",
        "plt.title(f'Original Dataset')\n",
        "plt.show()"
      ],
      "execution_count": 48,
      "outputs": [
        {
          "output_type": "display_data",
          "data": {
            "image/png": "[encoded data removed]",
            "text/plain": [
              "<Figure size 432x288 with 2 Axes>"
            ]
          },
          "metadata": {
            "tags": []
          }
        }
      ]
    },
    {
      "cell_type": "code",
      "metadata": {
        "colab": {
          "base_uri": "https://localhost:8080/"
        },
        "id": "lH4M05mMREG8",
        "outputId": "dd4b06d5-8462-475f-ad4d-02d433174c74"
      },
      "source": [
        "print(metrics.classification_report(Y_test, Y_predict))"
      ],
      "execution_count": 49,
      "outputs": [
        {
          "output_type": "stream",
          "text": [
            "              precision    recall  f1-score   support\n",
            "\n",
            "         0.0       0.88      1.00      0.93     66864\n",
            "         1.0       0.57      0.00      0.01      9358\n",
            "\n",
            "    accuracy                           0.88     76222\n",
            "   macro avg       0.72      0.50      0.47     76222\n",
            "weighted avg       0.84      0.88      0.82     76222\n",
            "\n"
          ],
          "name": "stdout"
        }
      ]
    },
    {
      "cell_type": "markdown",
      "metadata": {
        "id": "QV3Dek54UxIH"
      },
      "source": [
        "# 2.3 Training Undersampling Dataset\n",
        "This section, we use undersampling method to make a new dataset for solving imbalanced data and train our model with undersampling dataset"
      ]
    },
    {
      "cell_type": "code",
      "metadata": {
        "id": "z6qzq3aQ3RkX"
      },
      "source": [
        "from imblearn.under_sampling import RandomUnderSampler\n",
        "\n",
        "new_df = shuffle(process_df)\n",
        "new_df.drop(columns=['id'], inplace= True)\n",
        "X = np.array(new_df)[:,:-1]\n",
        "y = np.array(new_df)[:,-1]\n",
        "\n",
        "rus = RandomUnderSampler(random_state=0)\n",
        "X_resampled, y_resampled = rus.fit_resample(X, y)"
      ],
      "execution_count": 109,
      "outputs": []
    },
    {
      "cell_type": "code",
      "metadata": {
        "colab": {
          "base_uri": "https://localhost:8080/"
        },
        "id": "n_QKAaRN3gnS",
        "outputId": "ff15b6e7-41a6-4a8c-b5f4-bdebeed8d9d9"
      },
      "source": [
        "X_resampled.shape, y_resampled.shape"
      ],
      "execution_count": 110,
      "outputs": [
        {
          "output_type": "execute_result",
          "data": {
            "text/plain": [
              "((93420, 15), (93420,))"
            ]
          },
          "metadata": {
            "tags": []
          },
          "execution_count": 110
        }
      ]
    },
    {
      "cell_type": "code",
      "metadata": {
        "colab": {
          "base_uri": "https://localhost:8080/"
        },
        "id": "I6Vbgvxf3mt-",
        "outputId": "3f48a0a6-ee68-415e-be00-82ee9c32779d"
      },
      "source": [
        "X_train, X_test, Y_train, Y_test = train_test_split(X_resampled, y_resampled, test_size=0.2)\n",
        "\n",
        "model = LGBMClassifier()\n",
        "model.fit(X_train, Y_train)\n",
        "\n",
        "\n",
        "Y_predict = model.predict(X_test)\n",
        "print(f'precision : {metrics.precision_score(Y_test, Y_predict)}')\n",
        "\n",
        "fpr, tpr, thresholds = metrics.roc_curve(Y_test, Y_predict)\n",
        "(metrics.auc(fpr, tpr))\n",
        "print(f'AUC : {metrics.auc(fpr, tpr)}')"
      ],
      "execution_count": 111,
      "outputs": [
        {
          "output_type": "stream",
          "text": [
            "precision : 0.7346300211416491\n",
            "AUC : 0.7942875855589927\n"
          ],
          "name": "stdout"
        }
      ]
    },
    {
      "cell_type": "code",
      "metadata": {
        "colab": {
          "base_uri": "https://localhost:8080/",
          "height": 317
        },
        "id": "fdAkTKXMVcCg",
        "outputId": "291eeb4f-862a-469f-df13-295371bcaa2d"
      },
      "source": [
        "data = pd.DataFrame({'test': Y_test,'pred': Y_predict})\n",
        "confusion_matrix = pd.crosstab(data.test, data.pred, rownames=['Actual'], colnames=['Predicted'])\n",
        "sns.heatmap(confusion_matrix, annot=True, fmt='g')\n",
        "plt.title(f'Undersampling Dataset')\n",
        "plt.show()"
      ],
      "execution_count": 112,
      "outputs": [
        {
          "output_type": "display_data",
          "data": {
            "image/png": "[encoded data removed]",
            "text/plain": [
              "<Figure size 432x288 with 2 Axes>"
            ]
          },
          "metadata": {
            "tags": []
          }
        }
      ]
    },
    {
      "cell_type": "code",
      "metadata": {
        "colab": {
          "base_uri": "https://localhost:8080/"
        },
        "id": "r0UTXFznRg2b",
        "outputId": "b818e045-4e86-40b4-c305-878bed9d26b8"
      },
      "source": [
        "print(metrics.classification_report(Y_test, Y_predict))"
      ],
      "execution_count": 55,
      "outputs": [
        {
          "output_type": "stream",
          "text": [
            "              precision    recall  f1-score   support\n",
            "\n",
            "         0.0       0.91      0.66      0.77      9326\n",
            "         1.0       0.73      0.93      0.82      9074\n",
            "\n",
            "    accuracy                           0.80     18400\n",
            "   macro avg       0.82      0.80      0.79     18400\n",
            "weighted avg       0.82      0.80      0.79     18400\n",
            "\n"
          ],
          "name": "stdout"
        }
      ]
    },
    {
      "cell_type": "markdown",
      "metadata": {
        "id": "Dpvq0J2SVnzY"
      },
      "source": [
        "## 2.4 Oversampling Dataset using SMOTE\n",
        "In this section, we split dataset into train and test set before oversampling. Then, we do oversampling only train set."
      ]
    },
    {
      "cell_type": "code",
      "metadata": {
        "colab": {
          "base_uri": "https://localhost:8080/"
        },
        "id": "0kMUNInQv2V8",
        "outputId": "a75bf962-4bf5-44d3-ab99-a13eba7139e1"
      },
      "source": [
        "# split data into train & test set\n",
        "new_df = process_df.drop(columns=['id'])\n",
        "X = np.array(new_df)[:,:-1]\n",
        "Y = np.array(new_df)[:,-1]\n",
        "X_train, X_test, Y_train, Y_test = train_test_split(X, Y, test_size=0.2)\n",
        "X_train.shape, Y_train.shape, X_test.shape, Y_test.shape"
      ],
      "execution_count": 103,
      "outputs": [
        {
          "output_type": "execute_result",
          "data": {
            "text/plain": [
              "((304887, 15), (304887,), (76222, 15), (76222,))"
            ]
          },
          "metadata": {
            "tags": []
          },
          "execution_count": 103
        }
      ]
    },
    {
      "cell_type": "code",
      "metadata": {
        "colab": {
          "base_uri": "https://localhost:8080/"
        },
        "id": "Pw6iQbCiv2jo",
        "outputId": "a6c4d539-f185-42c4-ecdd-8aa3a4245bda"
      },
      "source": [
        "# oversampling only train set\n",
        "from imblearn.over_sampling import SMOTE\n",
        "oversample = SMOTE()\n",
        "\n",
        "X_train, Y_train = oversample.fit_resample(X_train, Y_train)\n",
        "\n",
        "X_train.shape, Y_train.shape, X_test.shape, Y_test.shape"
      ],
      "execution_count": 104,
      "outputs": [
        {
          "output_type": "execute_result",
          "data": {
            "text/plain": [
              "((535004, 15), (535004,), (76222, 15), (76222,))"
            ]
          },
          "metadata": {
            "tags": []
          },
          "execution_count": 104
        }
      ]
    },
    {
      "cell_type": "code",
      "metadata": {
        "colab": {
          "base_uri": "https://localhost:8080/"
        },
        "id": "0hXmPgWEy178",
        "outputId": "4c526438-3316-4a2d-88dc-817315aca929"
      },
      "source": [
        "pd.DataFrame(Y_train).value_counts()"
      ],
      "execution_count": 105,
      "outputs": [
        {
          "output_type": "execute_result",
          "data": {
            "text/plain": [
              "1.0    267502\n",
              "0.0    267502\n",
              "dtype: int64"
            ]
          },
          "metadata": {
            "tags": []
          },
          "execution_count": 105
        }
      ]
    },
    {
      "cell_type": "code",
      "metadata": {
        "colab": {
          "base_uri": "https://localhost:8080/"
        },
        "id": "8wC-q6DczuMZ",
        "outputId": "b8094749-a2f8-48fc-cb5e-9e18fd181368"
      },
      "source": [
        "pd.DataFrame(Y_test).value_counts()"
      ],
      "execution_count": 106,
      "outputs": [
        {
          "output_type": "execute_result",
          "data": {
            "text/plain": [
              "0.0    66897\n",
              "1.0     9325\n",
              "dtype: int64"
            ]
          },
          "metadata": {
            "tags": []
          },
          "execution_count": 106
        }
      ]
    },
    {
      "cell_type": "code",
      "metadata": {
        "colab": {
          "base_uri": "https://localhost:8080/"
        },
        "id": "Sppu8v-MVcJw",
        "outputId": "73491498-0593-4e45-aeba-6df59eca2636"
      },
      "source": [
        "model = LGBMClassifier()\n",
        "model.fit(X_train, Y_train)\n",
        "\n",
        "Y_predict = model.predict(X_test)\n",
        "print(f'precision : {metrics.precision_score(Y_test, Y_predict)}')\n",
        "\n",
        "fpr, tpr, thresholds = metrics.roc_curve(Y_test, Y_predict)\n",
        "(metrics.auc(fpr, tpr))\n",
        "print(f'AUC : {metrics.auc(fpr, tpr)}')"
      ],
      "execution_count": 108,
      "outputs": [
        {
          "output_type": "stream",
          "text": [
            "precision : 0.3671665773968934\n",
            "AUC : 0.55585058475514\n"
          ],
          "name": "stdout"
        }
      ]
    },
    {
      "cell_type": "code",
      "metadata": {
        "colab": {
          "base_uri": "https://localhost:8080/",
          "height": 317
        },
        "id": "uFIvF_iKVcMT",
        "outputId": "3e54e05b-9b57-4dcb-9ec2-3b41185aae6f"
      },
      "source": [
        "data = pd.DataFrame({'test': Y_test,'pred': Y_predict})\n",
        "confusion_matrix = pd.crosstab(data.test, data.pred, rownames=['Actual'], colnames=['Predicted'])\n",
        "sns.heatmap(confusion_matrix, annot=True, fmt='g')\n",
        "plt.title(f'Oversampling Dataset')\n",
        "plt.show()"
      ],
      "execution_count": 61,
      "outputs": [
        {
          "output_type": "display_data",
          "data": {
            "image/png": "[encoded data removed]",
            "text/plain": [
              "<Figure size 432x288 with 2 Axes>"
            ]
          },
          "metadata": {
            "tags": []
          }
        }
      ]
    },
    {
      "cell_type": "code",
      "metadata": {
        "colab": {
          "base_uri": "https://localhost:8080/"
        },
        "id": "77m47dc3dyeK",
        "outputId": "b0ddc22c-1a17-4e67-cff2-71d772d44b89"
      },
      "source": [
        "print(metrics.classification_report(Y_test, Y_predict))"
      ],
      "execution_count": 62,
      "outputs": [
        {
          "output_type": "stream",
          "text": [
            "              precision    recall  f1-score   support\n",
            "\n",
            "         0.0       0.89      0.97      0.93     66896\n",
            "         1.0       0.38      0.11      0.18      9326\n",
            "\n",
            "    accuracy                           0.87     76222\n",
            "   macro avg       0.64      0.54      0.55     76222\n",
            "weighted avg       0.83      0.87      0.84     76222\n",
            "\n"
          ],
          "name": "stdout"
        }
      ]
    },
    {
      "cell_type": "markdown",
      "metadata": {
        "id": "YMvUdEhH6Ojk"
      },
      "source": [
        "# 3. Cross validation and Comparison of Different Models"
      ]
    },
    {
      "cell_type": "code",
      "metadata": {
        "colab": {
          "base_uri": "https://localhost:8080/"
        },
        "id": "X1ErfZZJ_ygI",
        "outputId": "50f8d769-7209-484d-a759-9349f3dbb3a5"
      },
      "source": [
        "from imblearn.under_sampling import RandomUnderSampler\n",
        "\n",
        "new_df = shuffle(process_df)\n",
        "new_df.drop(columns=['id'], inplace= True)\n",
        "X = np.array(new_df)[:,:-1]\n",
        "y = np.array(new_df)[:,-1]\n",
        "\n",
        "rus = RandomUnderSampler(random_state=0)\n",
        "X_resampled, y_resampled = rus.fit_resample(X, y)\n",
        "\n",
        "\n",
        "# split train & test set\n",
        "X_train, X_test, Y_train, Y_test = train_test_split(X_resampled, y_resampled, test_size=0.2)\n",
        "X_train.shape, Y_train.shape, X_test.shape, Y_test.shape\n"
      ],
      "execution_count": 153,
      "outputs": [
        {
          "output_type": "execute_result",
          "data": {
            "text/plain": [
              "((74736, 15), (74736,), (18684, 15), (18684,))"
            ]
          },
          "metadata": {
            "tags": []
          },
          "execution_count": 153
        }
      ]
    },
    {
      "cell_type": "code",
      "metadata": {
        "colab": {
          "base_uri": "https://localhost:8080/",
          "height": 204
        },
        "id": "udzdRItq88A0",
        "outputId": "ba596cbc-6e69-47f2-acef-38132cebe7cf"
      },
      "source": [
        "from sklearn.ensemble import GradientBoostingClassifier\n",
        "from lightgbm import LGBMClassifier\n",
        "from xgboost import XGBClassifier\n",
        "from sklearn.ensemble import AdaBoostClassifier\n",
        "from sklearn.linear_model import RidgeClassifier\n",
        "from sklearn.model_selection import cross_validate\n",
        "from sklearn.model_selection import KFold\n",
        "\n",
        "acc = []\n",
        "precision = []\n",
        "recall = []\n",
        "f1 = []\n",
        "AUC = []\n",
        "totalTime = []\n",
        "model_name = ['GradientBoostingClassifier', 'LGBMClassifier', 'XGBClassifier', 'AdaBoostClassifier', 'RidgeClassifier']\n",
        "\n",
        "for model in model_name:\n",
        "\n",
        "\n",
        "\n",
        "    start = time()\n",
        "    # train model\n",
        "    model = eval(model)()\n",
        "    model.fit(X_train, Y_train)\n",
        "    end = time()\n",
        "    # Evaluation \n",
        "    Y_predict = model.predict(X_test)\n",
        "\n",
        "    # Evaluate a score by  k-fold cross-validation\n",
        "\n",
        "\n",
        "    score_set = {'acc': 'accuracy',\n",
        "           'precision': 'precision',\n",
        "           'recall': 'recall',\n",
        "           'f1': 'f1',\n",
        "           'roc auc':'roc_auc'\n",
        "           }\n",
        "    kfold = KFold(n_splits=5, random_state=1)\n",
        "    scores_acc = cross_val_score(model, X_train, Y_train, cv=kfold, scoring='accuracy')\n",
        "    scores_pre = cross_val_score(model, X_train, Y_train, cv=kfold, scoring='precision')\n",
        "    scores_recall = cross_val_score(model, X_train, Y_train, cv=kfold, scoring='recall')\n",
        "    scores_f1 = cross_val_score(model, X_train, Y_train, cv=kfold, scoring='f1')\n",
        "    scores_roc_auc = cross_val_score(model, X_train, Y_train, cv=kfold, scoring='roc_auc')\n",
        "\n",
        "\n",
        "    acc.append(np.mean(scores_acc))\n",
        "    precision.append(np.mean(scores_pre))\n",
        "    recall.append(np.mean(scores_recall))\n",
        "    f1.append(np.mean(scores_f1))\n",
        "    AUC.append(np.mean(scores_roc_auc))\n",
        "\n",
        "\n",
        "    #fpr, tpr, thresholds = metrics.roc_curve(Y_test, Y_predict)\n",
        "    #AUC.append(metrics.auc(fpr, tpr))\n",
        "    \n",
        "    totalTime.append(end-start)\n",
        "\n",
        "model_df = pd.DataFrame({'model' : model_name, 'Accuracy' : acc, 'Precision': precision, 'Recall': recall, 'f1_score': f1, 'ROC_AUC':AUC,'run_time(sec)' : totalTime})\n",
        "model_df.sort_values(by=['ROC_AUC'], inplace=True, ascending=False)\n",
        "model_df"
      ],
      "execution_count": 158,
      "outputs": [
        {
          "output_type": "execute_result",
          "data": {
            "text/html": [
              "<div>\n",
              "<style scoped>\n",
              "    .dataframe tbody tr th:only-of-type {\n",
              "        vertical-align: middle;\n",
              "    }\n",
              "\n",
              "    .dataframe tbody tr th {\n",
              "        vertical-align: top;\n",
              "    }\n",
              "\n",
              "    .dataframe thead th {\n",
              "        text-align: right;\n",
              "    }\n",
              "</style>\n",
              "<table border=\"1\" class=\"dataframe\">\n",
              "  <thead>\n",
              "    <tr style=\"text-align: right;\">\n",
              "      <th></th>\n",
              "      <th>model</th>\n",
              "      <th>Accuracy</th>\n",
              "      <th>Precision</th>\n",
              "      <th>Recall</th>\n",
              "      <th>f1_score</th>\n",
              "      <th>ROC_AUC</th>\n",
              "      <th>run_time(sec)</th>\n",
              "    </tr>\n",
              "  </thead>\n",
              "  <tbody>\n",
              "    <tr>\n",
              "      <th>0</th>\n",
              "      <td>GradientBoostingClassifier</td>\n",
              "      <td>0.795212</td>\n",
              "      <td>0.737111</td>\n",
              "      <td>0.919701</td>\n",
              "      <td>0.818328</td>\n",
              "      <td>0.855075</td>\n",
              "      <td>8.234204</td>\n",
              "    </tr>\n",
              "    <tr>\n",
              "      <th>2</th>\n",
              "      <td>XGBClassifier</td>\n",
              "      <td>0.795761</td>\n",
              "      <td>0.735207</td>\n",
              "      <td>0.926568</td>\n",
              "      <td>0.819828</td>\n",
              "      <td>0.855073</td>\n",
              "      <td>3.201660</td>\n",
              "    </tr>\n",
              "    <tr>\n",
              "      <th>1</th>\n",
              "      <td>LGBMClassifier</td>\n",
              "      <td>0.796939</td>\n",
              "      <td>0.737485</td>\n",
              "      <td>0.924073</td>\n",
              "      <td>0.820290</td>\n",
              "      <td>0.854236</td>\n",
              "      <td>0.702385</td>\n",
              "    </tr>\n",
              "    <tr>\n",
              "      <th>3</th>\n",
              "      <td>AdaBoostClassifier</td>\n",
              "      <td>0.794236</td>\n",
              "      <td>0.732231</td>\n",
              "      <td>0.929866</td>\n",
              "      <td>0.819234</td>\n",
              "      <td>0.851393</td>\n",
              "      <td>2.362931</td>\n",
              "    </tr>\n",
              "    <tr>\n",
              "      <th>4</th>\n",
              "      <td>RidgeClassifier</td>\n",
              "      <td>0.784347</td>\n",
              "      <td>0.706209</td>\n",
              "      <td>0.976124</td>\n",
              "      <td>0.819497</td>\n",
              "      <td>0.836514</td>\n",
              "      <td>0.032651</td>\n",
              "    </tr>\n",
              "  </tbody>\n",
              "</table>\n",
              "</div>"
            ],
            "text/plain": [
              "                        model  Accuracy  ...   ROC_AUC  run_time(sec)\n",
              "0  GradientBoostingClassifier  0.795212  ...  0.855075       8.234204\n",
              "2               XGBClassifier  0.795761  ...  0.855073       3.201660\n",
              "1              LGBMClassifier  0.796939  ...  0.854236       0.702385\n",
              "3          AdaBoostClassifier  0.794236  ...  0.851393       2.362931\n",
              "4             RidgeClassifier  0.784347  ...  0.836514       0.032651\n",
              "\n",
              "[5 rows x 7 columns]"
            ]
          },
          "metadata": {
            "tags": []
          },
          "execution_count": 158
        }
      ]
    },
    {
      "cell_type": "markdown",
      "metadata": {
        "id": "Tho2nl2t4adw"
      },
      "source": [
        "# 4. Cost-sensitive learning \n",
        "Repeat stratified k-fold techniques can then be used in conjunction with cross_val_score to predict and evaluate each fold."
      ]
    },
    {
      "cell_type": "code",
      "metadata": {
        "colab": {
          "base_uri": "https://localhost:8080/"
        },
        "id": "1EVOyMtYCXBI",
        "outputId": "924ef0ba-9f92-4654-891f-26d7d10aa68d"
      },
      "source": [
        "#modified code from here https://towardsdatascience.com/how-to-effectively-predict-imbalanced-classes-in-python-e8cd3b5720c4\n",
        "\n",
        "from sklearn.model_selection import cross_val_score\n",
        "from sklearn.model_selection import cross_validate\n",
        "from sklearn.model_selection import RepeatedStratifiedKFold\n",
        "#from sklearn.tree import XGBClassifier\n",
        "from xgboost import XGBClassifier\n",
        "from collections import Counter\n",
        "\n",
        "# load data\n",
        "new_df = shuffle(process_df)\n",
        "new_df.drop(columns=['id'], inplace= True)\n",
        "X = np.array(new_df)[:,:-1]\n",
        "y = np.array(new_df)[:,-1]\n",
        "\n",
        "# count samples in minor & major class\n",
        "counter = Counter(y)\n",
        "\n",
        "print(counter)\n",
        "\n",
        "# estimate scale_pos_weight value\n",
        "weight = counter[0] / counter[1]\n",
        "\n",
        "#define model\n",
        "model = XGBClassifier(scale_pos_weight=weight)\n",
        "\n",
        "# Evaluate a score by  Stratified k-fold cross-validation\n",
        "\n",
        "\n",
        "score_set = {'acc': 'accuracy',\n",
        "           'precision': 'precision',\n",
        "           'recall': 'recall',\n",
        "           'f1': 'f1',\n",
        "           'roc_auc':'roc_auc'\n",
        "           }\n",
        "\n",
        "\n",
        "cv = RepeatedStratifiedKFold(n_splits=10,n_repeats=3, random_state=1)\n",
        "scores = cross_validate(model, X,y, scoring=score_set, cv=cv, n_jobs=1)\n"
      ],
      "execution_count": 148,
      "outputs": [
        {
          "output_type": "stream",
          "text": [
            "Counter({0.0: 334399, 1.0: 46710})\n"
          ],
          "name": "stdout"
        }
      ]
    },
    {
      "cell_type": "code",
      "metadata": {
        "colab": {
          "base_uri": "https://localhost:8080/"
        },
        "id": "OD9BPnAIgqoq",
        "outputId": "c6e8f19a-26df-41d1-c804-632251d672db"
      },
      "source": [
        "print(scores.keys())"
      ],
      "execution_count": 151,
      "outputs": [
        {
          "output_type": "stream",
          "text": [
            "dict_keys(['fit_time', 'score_time', 'test_acc', 'test_precision', 'test_precision_macro', 'test_recall', 'test_recall_macro', 'test_f1', 'test_roc auc'])\n"
          ],
          "name": "stdout"
        }
      ]
    },
    {
      "cell_type": "code",
      "metadata": {
        "colab": {
          "base_uri": "https://localhost:8080/"
        },
        "id": "J66DoxRyoMe5",
        "outputId": "829f9bc5-b033-473c-e4fa-995048baa44e"
      },
      "source": [
        "print('Fit time: ',np.mean(scores['fit_time']))\n",
        "print('Accuracy : ',np.mean(scores['test_acc']))\n",
        "print('Precision : ',np.mean(scores['test_precision']))\n",
        "print('Recall : ',np.mean(scores['test_recall']))\n",
        "print('F1 : ',np.mean(scores['test_f1']))\n",
        "print('Mean AUROC : ',np.mean(scores['test_roc_auc']))"
      ],
      "execution_count": 152,
      "outputs": [
        {
          "output_type": "stream",
          "text": [
            "Fit time:  15.905561590194703\n",
            "Accuracy :  0.6968470114238592\n",
            "Precision :  0.2787894249625159\n",
            "Precision_macro :  0.6319820997902311\n",
            "Recall :  0.9283879254977522\n",
            "F1 :  0.42880329408925993\n",
            "Mean AUROC :  0.8545914791726529\n"
          ],
          "name": "stdout"
        }
      ]
    },
    {
      "cell_type": "code",
      "metadata": {
        "id": "m5f_wpXVIiQZ"
      },
      "source": [
        "\n",
        "from sklearn.model_selection import cross_val_score\n",
        "from sklearn.model_selection import StratifiedKFold\n",
        "\n",
        "# load dataset\n",
        "data = pd.read_csv('abc.csv')\n",
        "X = data.iloc[:, :-1]\n",
        "y = data.iloc[:, -1]\n",
        "\n",
        "# define model\n",
        "model = LogisticRegression(class_weight='balanced')\n",
        "\n",
        "# define cross-validation\n",
        "cv = RepeatedStratifiedKFold(n_splits=10, n_repeats=3, random_state=1)\n",
        "\n",
        "# evaluate model\n",
        "scores = cross_val_score(model, X, y, scoring='roc_auc', cv=cv, n_jobs=-1)\n",
        "\n",
        "# summarize performance\n",
        "print('Mean AUROC: %.3f' % np.mean(scores))"
      ],
      "execution_count": null,
      "outputs": []
    },
    {
      "cell_type": "code",
      "metadata": {
        "colab": {
          "base_uri": "https://localhost:8080/"
        },
        "id": "_Eg2A7kOkRLT",
        "outputId": "f370b213-d39c-4b8d-e9fb-ad3b24d6df0e"
      },
      "source": [
        "# Splitting the dataset \n",
        "X_train, X_test, Y_train, Y_test = train_test_split(X, Y, test_size=0.20)\n",
        "\n",
        "print('Shape of training set ', X_train.shape)\n",
        "print('Shape of test set ', X_test.shape)"
      ],
      "execution_count": 79,
      "outputs": [
        {
          "output_type": "stream",
          "text": [
            "Shape of training set  (73600, 15)\n",
            "Shape of test set  (18400, 15)\n"
          ],
          "name": "stdout"
        }
      ]
    },
    {
      "cell_type": "code",
      "metadata": {
        "colab": {
          "base_uri": "https://localhost:8080/"
        },
        "id": "ZyNSNz07iWJV",
        "outputId": "bc546f93-dc3a-4efe-a39e-d49c4819dd89"
      },
      "source": [
        "from sklearn.model_selection import KFold\n",
        "from sklearn.model_selection import cross_val_score\n",
        "\n",
        "model = XGBClassifier(max_depth= 2, eta= 1, objective= 'binary:logistic')\n",
        "model.fit(X_train, Y_train)\n",
        "\n",
        "kfold = KFold(n_splits=10, random_state=41)\n",
        "\n",
        "# Get score:\n",
        "results_k = cross_val_score(model, X, Y, cv=kfold, scoring='roc_auc')\n",
        "results_k"
      ],
      "execution_count": 80,
      "outputs": [
        {
          "output_type": "execute_result",
          "data": {
            "text/plain": [
              "array([0.8502265 , 0.85322092, 0.85308498, 0.85443551, 0.84872405,\n",
              "       0.85134678, 0.84460969, 0.85193931, 0.85212179, 0.84722133])"
            ]
          },
          "metadata": {
            "tags": []
          },
          "execution_count": 80
        }
      ]
    },
    {
      "cell_type": "markdown",
      "metadata": {
        "id": "EvTRwlpAz6Em"
      },
      "source": [
        "# 5. Save Model\n",
        "Finally, we use Undersampling data for training model "
      ]
    },
    {
      "cell_type": "code",
      "metadata": {
        "id": "MTBOIPqG4c6n"
      },
      "source": [
        "from imblearn.under_sampling import RandomUnderSampler\n",
        "\n",
        "new_df = shuffle(process_df)\n",
        "new_df.drop(columns=['id'], inplace= True)\n",
        "X = np.array(new_df)[:,:-1]\n",
        "y = np.array(new_df)[:,-1]\n",
        "\n",
        "rus = RandomUnderSampler(random_state=0)\n",
        "X_resampled, y_resampled = rus.fit_resample(X, y)\n",
        "\n",
        "X_train, X_test, Y_train, Y_test = train_test_split(X_resampled, y_resampled, test_size=0.2)"
      ],
      "execution_count": null,
      "outputs": []
    },
    {
      "cell_type": "code",
      "metadata": {
        "colab": {
          "base_uri": "https://localhost:8080/"
        },
        "id": "T39k9ZuoxwwT",
        "outputId": "3b64edde-1886-4905-fc40-766d4478c578"
      },
      "source": [
        "model = LGBMClassifier()\n",
        "model.fit(X_train, Y_train)\n",
        "\n",
        "pred = model.predict(X_test)"
      ],
      "execution_count": 35,
      "outputs": [
        {
          "output_type": "stream",
          "text": [
            "accuracy : 86.7387368476293%\n"
          ],
          "name": "stdout"
        }
      ]
    },
    {
      "cell_type": "code",
      "metadata": {
        "colab": {
          "base_uri": "https://localhost:8080/",
          "height": 301
        },
        "id": "cjgnbmvs7JMB",
        "outputId": "0d935d0a-9398-4e5d-fd4f-eb037098f2a7"
      },
      "source": [
        "data = pd.DataFrame({'test': Y_test,'pred': pred})\n",
        "confusion_matrix = pd.crosstab(data.test, data.pred, rownames=['Actual'], colnames=['Predicted'])\n",
        "sns.heatmap(confusion_matrix, annot=True, fmt='g')\n",
        "plt.title(f'Oversampling Dataset')\n",
        "plt.show()"
      ],
      "execution_count": 36,
      "outputs": [
        {
          "output_type": "display_data",
          "data": {
            "image/png": "[encoded data removed]",
            "text/plain": [
              "<Figure size 432x288 with 2 Axes>"
            ]
          },
          "metadata": {
            "tags": []
          }
        }
      ]
    },
    {
      "cell_type": "code",
      "metadata": {
        "colab": {
          "base_uri": "https://localhost:8080/"
        },
        "id": "GEFbveWqz_T1",
        "outputId": "d59f9a9e-ddf7-490c-9d2d-05784318ed2d"
      },
      "source": [
        "joblib.dump(model, 'model_LGBMClassifier_9193.pkl')"
      ],
      "execution_count": null,
      "outputs": [
        {
          "output_type": "execute_result",
          "data": {
            "text/plain": [
              "['model_LGBMClassifier_9193.pkl']"
            ]
          },
          "metadata": {
            "tags": []
          },
          "execution_count": 271
        }
      ]
    },
    {
      "cell_type": "markdown",
      "metadata": {
        "id": "CSp2e1xD0St3"
      },
      "source": [
        "#Test Model"
      ]
    },
    {
      "cell_type": "code",
      "metadata": {
        "id": "nCWMG61G5I6U"
      },
      "source": [
        "#download model\n",
        "!gdown --id -q 1Zb26X3gQXc-kbC2-t8RMrRRZx2pvLcoh"
      ],
      "execution_count": null,
      "outputs": []
    },
    {
      "cell_type": "code",
      "metadata": {
        "colab": {
          "base_uri": "https://localhost:8080/"
        },
        "id": "-yqiqh7A0q0D",
        "cellView": "form",
        "outputId": "e42cbd57-0a00-4cea-b0f8-f660f68183ed"
      },
      "source": [
        "#@title\n",
        "\n",
        "model = joblib.load('/content/model_LGBMClassifier_9193.pkl')\n",
        "\n",
        "answer_list = []\n",
        "Age = 20 #@param {type:\"number\"}\n",
        "Driving_License = True #@param {type:\"boolean\"}\n",
        "Region_Code = 50 #@param {type:\"number\"}\n",
        "Previously_Insured = True #@param {type:\"boolean\"}\n",
        "Annual_Premium = 10000 #@param {type:\"number\"}\n",
        "Policy_Sales_Channel = 20 #@param {type:\"number\"}\n",
        "Vintage = 88 #@param {type:\"number\"}\n",
        "Gender = 'Female' #@param ['Male', 'Female'] {type:\"string\"}\n",
        "Vehicle_Age = \"\\u003C 1 Year\" #@param ['< 1 Year', '1-2 Year', '> 2 Years'] {type:\"string\"}\n",
        "Vehicle_Damage_Yes = False #@param {type:\"boolean\"}\n",
        "\n",
        "Driving_License_0,Driving_License_1 = 0, 0\n",
        "Driving_License_1=1 if Driving_License == True else 0\n",
        "Driving_License_0=1 if Driving_License == False else 0\n",
        "\n",
        "Previously_Insured_0, Previously_Insured_1 = 0, 0\n",
        "Previously_Insured_1=1 if Previously_Insured == True else 0\n",
        "Previously_Insured_0=1 if Previously_Insured == False else 0\n",
        "\n",
        "Gender_Female, Gender_Male = 0, 0\n",
        "Gender_Female=1 if Gender == 'Female' else 0\n",
        "Gender_Male=1 if Gender == 'Male' else 0\n",
        "\n",
        "Vehicle_Age_1_Year, Vehicle_Age_1_2_Year, Vehicle_Age_2_Years = 0, 0, 0\n",
        "Vehicle_Age_1_Year=1 if Vehicle_Age == '< 1 Year' else 0\n",
        "Vehicle_Age_1_2_Year=1 if Vehicle_Age == '1-2 Year' else 0\n",
        "Vehicle_Age_2_Years=1 if Vehicle_Age == '> 2 Years' else 0\n",
        "\n",
        "\n",
        "Vehicle_Damage_Yes, Vehicle_Damage_No = 0, 0\n",
        "Vehicle_Damage_Yes=1 if Vehicle_Age == True else 0\n",
        "Vehicle_Damage_No=1 if Vehicle_Age == False else 0\n",
        "\n",
        "feature = [Age, Region_Code, Annual_Premium, Policy_Sales_Channel, Vintage, Gender_Female, Gender_Male, Driving_License_0, Driving_License_1, Previously_Insured_0, Previously_Insured_1, Vehicle_Age_1_Year, Vehicle_Age_1_2_Year, Vehicle_Age_2_Years, Vehicle_Damage_No, Vehicle_Damage_Yes]\n",
        "feature = np.array(feature).reshape(1,-1)\n",
        "\n",
        "model.predict(feature)\n",
        "\n",
        "if model.predict(feature)[0] == 1:\n",
        "    print('Customer is interested')\n",
        "elif model.predict(feature)[0] == 0:\n",
        "    print('Customer is not interested')"
      ],
      "execution_count": null,
      "outputs": [
        {
          "output_type": "stream",
          "text": [
            "Customer is not interested\n"
          ],
          "name": "stdout"
        }
      ]
    },
    {
      "cell_type": "code",
      "metadata": {
        "id": "ZK1Xv6pVcDg5"
      },
      "source": [
        ""
      ],
      "execution_count": null,
      "outputs": []
    }
  ]
}